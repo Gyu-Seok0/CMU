{
  "cells": [
    {
      "cell_type": "code",
      "execution_count": 1,
      "metadata": {
        "id": "oxiZ42B4SwQ-"
      },
      "outputs": [
        {
          "name": "stderr",
          "output_type": "stream",
          "text": [
            "/home/junhyunb/anaconda3/envs/idl/lib/python3.8/site-packages/tqdm/auto.py:22: TqdmWarning: IProgress not found. Please update jupyter and ipywidgets. See https://ipywidgets.readthedocs.io/en/stable/user_install.html\n",
            "  from .autonotebook import tqdm as notebook_tqdm\n"
          ]
        }
      ],
      "source": [
        "%matplotlib inline\n",
        "\n",
        "import numpy as np\n",
        "from matplotlib import pyplot as plt\n",
        "import time\n",
        "import os\n",
        "import torch\n",
        "import torch.nn as nn\n",
        "from torch.autograd import Variable\n",
        "from torch.utils.data import Dataset, DataLoader\n",
        "from tests_hw4 import test_prediction, test_generation\n",
        "\n",
        "device = torch.device(\"cuda\" if torch.cuda.is_available() else \"cpu\")"
      ]
    },
    {
      "cell_type": "code",
      "execution_count": 2,
      "metadata": {
        "id": "x5znxQhLSwRC"
      },
      "outputs": [],
      "source": [
        "# load all that we need\n",
        "\n",
        "dataset = np.load('../dataset/wiki.train.npy', allow_pickle=True)\n",
        "devset = np.load('../dataset/wiki.valid.npy', allow_pickle=True)\n",
        "fixtures_pred = np.load('../fixtures/prediction.npz')  # dev\n",
        "fixtures_gen = np.load('../fixtures/generation.npy')  # dev\n",
        "fixtures_pred_test = np.load('../fixtures/prediction_test.npz')  # test\n",
        "fixtures_gen_test = np.load('../fixtures/generation_test.npy')  # test\n",
        "vocab = np.load('../dataset/vocab.npy')"
      ]
    },
    {
      "cell_type": "code",
      "execution_count": 3,
      "metadata": {
        "id": "OZNrJ8XvSwRF"
      },
      "outputs": [],
      "source": [
        "# data loader\n",
        "\n",
        "class DataLoaderForLanguageModeling(DataLoader):\n",
        "    \"\"\"\n",
        "        TODO: Define data loader logic here\n",
        "    \"\"\"\n",
        "    def __init__(self, dataset, batch_size, shuffle=True):\n",
        "        self.dataset = dataset\n",
        "        self.batch_size = batch_size\n",
        "        self.shuffle = shuffle\n",
        "\n",
        "        self.sequence_length = 100\n",
        "\n",
        "    def __iter__(self):\n",
        "        \"\"\"\n",
        "            You may implement some of the techniques in https://arxiv.org/pdf/1708.02182.pdf\n",
        "            example: Variable length backpropagation sequences (Section 4.1)\n",
        "        \"\"\"\n",
        "        # 1. Randomly shuffle all the articles from the WikiText-2 dataset.\n",
        "        # 2. Concatenate all text in one long string.\n",
        "        # 3. Group the sequences into batches.\n",
        "        # 4. Run a loop that returns a tuple of (input, label) on every iteration with yield.\n",
        "\n",
        "        if self.shuffle:\n",
        "            shuffled_dataset = np.random.permutation(self.dataset)\n",
        "        else:\n",
        "            shuffled_dataset = self.dataset\n",
        "            \n",
        "        concatenated_dataset = np.concatenate(shuffled_dataset)\n",
        "        num_batches = len(concatenated_dataset) // (self.batch_size * self.sequence_length)\n",
        "        \n",
        "        count = 0\n",
        "\n",
        "        for i in range(num_batches):\n",
        "            inputs = []\n",
        "            targets = []\n",
        "            for j in range(self.batch_size):\n",
        "                start_idx = count * self.sequence_length\n",
        "                end_idx = start_idx + self.sequence_length + 1\n",
        "                inputs.append(concatenated_dataset[start_idx:end_idx-1])\n",
        "                targets.append(concatenated_dataset[start_idx+1:end_idx])\n",
        "\n",
        "                count += 1\n",
        "            \n",
        "            yield np.array(inputs), np.array(targets)\n",
        "\n",
        "    def dynamic_seq_len(self, seq_len):\n",
        "        seq_len = seq_len if np.random.random() < 0.95 else seq_len / 2\n",
        "        seq_len = 0\n",
        "\n",
        "        return 0"
      ]
    },
    {
      "cell_type": "code",
      "execution_count": 4,
      "metadata": {
        "id": "Zt-7YsTYSwRI"
      },
      "outputs": [],
      "source": [
        "# model\n",
        "\n",
        "class Model(nn.Module):\n",
        "    \"\"\"\n",
        "        TODO: Define your model here\n",
        "    \"\"\"\n",
        "    def __init__(self, vocab_size:int, embedding_dim:int, hidden_size:int):\n",
        "        super(Model, self).__init__()\n",
        "        \n",
        "        self.vocab_size = vocab_size\n",
        "        self.embedding_dim = embedding_dim\n",
        "        self.hidden_size = hidden_size\n",
        "\n",
        "        self.embedding = nn.Embedding(self.vocab_size, self.embedding_dim)\n",
        "        self.lstm = nn.LSTM(self.embedding_dim, self.hidden_size, num_layers=2, batch_first=True)\n",
        "        self.linear = nn.Linear(self.hidden_size, self.vocab_size)\n",
        "\n",
        "    def forward(self, x):\n",
        "        embedded_input = self.embedding(x)\n",
        "        output, (hidden, cell) = self.lstm(embedded_input)\n",
        "        output = self.linear(output)\n",
        "        \n",
        "        return output"
      ]
    },
    {
      "cell_type": "code",
      "execution_count": 5,
      "metadata": {
        "id": "kIvZOIfjSwRK"
      },
      "outputs": [],
      "source": [
        "# model trainer\n",
        "\n",
        "class Trainer:\n",
        "    def __init__(self, model, loader, max_epochs=1, run_id='exp'):\n",
        "        \"\"\"\n",
        "            Use this class to train your model\n",
        "        \"\"\"\n",
        "        # feel free to add any other parameters here\n",
        "        self.model = model.to(device)\n",
        "        self.loader = loader\n",
        "        self.train_losses = []\n",
        "        self.val_losses = []\n",
        "        self.predictions = []\n",
        "        self.predictions_test = []\n",
        "        self.generated_logits = []\n",
        "        self.generated = []\n",
        "        self.generated_logits_test = []\n",
        "        self.generated_test = []\n",
        "        self.epochs = 0\n",
        "        self.max_epochs = max_epochs\n",
        "        self.run_id = run_id\n",
        "        \n",
        "        # TODO: Define your optimizer and criterion here\n",
        "        # feel free to define a learning rate scheduler as well if you want\n",
        "\n",
        "        self.optimizer = torch.optim.Adam(self.model.parameters(), lr=0.001)\n",
        "        self.criterion = nn.CrossEntropyLoss()\n",
        "\n",
        "    def train(self):\n",
        "        self.model.train() # set to training mode\n",
        "        epoch_loss = 0\n",
        "        num_batches = 0\n",
        "        for batch_num, (inputs, targets) in enumerate(self.loader):\n",
        "            epoch_loss += self.train_batch(inputs, targets)\n",
        "        epoch_loss = epoch_loss / (batch_num + 1)\n",
        "        print('[TRAIN]  Epoch [%d/%d]   Loss: %.4f'\n",
        "                      % (self.epochs + 1, self.max_epochs, epoch_loss))\n",
        "        self.train_losses.append(epoch_loss)\n",
        "\n",
        "    def train_batch(self, inputs, targets):\n",
        "        \"\"\" \n",
        "            TODO: Define code for training a single batch of inputs\n",
        "            \n",
        "            :return \n",
        "                    (float) loss value\n",
        "        \"\"\"\n",
        "        self.model.train()\n",
        "        inputs = torch.LongTensor(inputs).to(device)\n",
        "        targets = torch.LongTensor(targets).to(device)\n",
        "        self.optimizer.zero_grad()\n",
        "        output = self.model(inputs)\n",
        "        loss = self.criterion(\n",
        "            output.transpose(1,2), targets\n",
        "            )\n",
        "        loss.backward()\n",
        "        self.optimizer.step()\n",
        "\n",
        "        return loss.item()\n",
        "    \n",
        "    def test(self):\n",
        "        # don't change these\n",
        "        self.model.eval() # set to eval mode\n",
        "        predictions = TestLanguageModel.predict(fixtures_pred['inp'], self.model) # get predictions\n",
        "        self.predictions.append(predictions)\n",
        "        generated_logits = TestLanguageModel.generate(fixtures_gen, 10, self.model) # generated predictions for 10 words\n",
        "        generated_logits_test = TestLanguageModel.generate(fixtures_gen_test, 10, self.model)\n",
        "        nll = test_prediction(predictions, fixtures_pred['out'])\n",
        "        generated = test_generation(fixtures_gen, generated_logits, vocab)\n",
        "        generated_test = test_generation(fixtures_gen_test, generated_logits_test, vocab)\n",
        "        self.val_losses.append(nll)\n",
        "        \n",
        "        self.generated.append(generated)\n",
        "        self.generated_test.append(generated_test)\n",
        "        self.generated_logits.append(generated_logits)\n",
        "        self.generated_logits_test.append(generated_logits_test)\n",
        "        \n",
        "        # generate predictions for test data\n",
        "        predictions_test = TestLanguageModel.predict(fixtures_pred_test['inp'], self.model) # get predictions\n",
        "        self.predictions_test.append(predictions_test)\n",
        "            \n",
        "        print('[VAL]  Epoch [%d/%d]   Loss: %.4f'\n",
        "                      % (self.epochs + 1, self.max_epochs, nll))\n",
        "        self.epochs += 1\n",
        "\n",
        "        return nll\n",
        "\n",
        "    def save(self):\n",
        "        # don't change these\n",
        "        model_path = os.path.join('experiments', self.run_id, 'model-{}.pkl'.format(self.epochs))\n",
        "        torch.save({'state_dict': self.model.state_dict()},\n",
        "            model_path)\n",
        "        np.save(os.path.join('experiments', self.run_id, 'predictions-{}.npy'.format(self.epochs)), self.predictions[-1])\n",
        "        np.save(os.path.join('experiments', self.run_id, 'predictions-test-{}.npy'.format(self.epochs)), self.predictions_test[-1])\n",
        "        np.save(os.path.join('experiments', self.run_id, 'generated_logits-{}.npy'.format(self.epochs)), self.generated_logits[-1])\n",
        "        np.save(os.path.join('experiments', self.run_id, 'generated_logits-test-{}.npy'.format(self.epochs)), self.generated_logits_test[-1])\n",
        "        with open(os.path.join('experiments', self.run_id, 'generated-{}.txt'.format(self.epochs)), 'w') as fw:\n",
        "            fw.write(self.generated[-1])\n",
        "        with open(os.path.join('experiments', self.run_id, 'generated-{}-test.txt'.format(self.epochs)), 'w') as fw:\n",
        "            fw.write(self.generated_test[-1])\n"
      ]
    },
    {
      "cell_type": "code",
      "execution_count": 6,
      "metadata": {
        "id": "xPI7_kZRSwRN"
      },
      "outputs": [],
      "source": [
        "\n",
        "class TestLanguageModel:\n",
        "    def predict(inp, model):\n",
        "        \"\"\"\n",
        "            TODO: write prediction code here\n",
        "            \n",
        "            :param inp:\n",
        "            :return: a np.ndarray of logits\n",
        "        \"\"\"\n",
        "        model.eval()\n",
        "        with torch.no_grad():\n",
        "            inp = torch.LongTensor(inp).to(device)\n",
        "            output = model(inp) # (bsz, seq_len, vocab_size)\n",
        "            output = output[:, -1, :]\n",
        "        \n",
        "        return output.cpu().detach().numpy()\n",
        "        \n",
        "    def generate(inp, forward, model):\n",
        "        \"\"\"\n",
        "            TODO: write generation code here\n",
        "\n",
        "            Generate a sequence of words given a starting sequence.\n",
        "            :param inp: Initial sequence of words (batch size, length)\n",
        "            :param forward: number of additional words to generate\n",
        "            :return: generated words (batch size, forward)\n",
        "        \"\"\"\n",
        "        inp = torch.LongTensor(inp).to(device)\n",
        "        inp_length = inp.size(1)\n",
        "        model.eval()\n",
        "        \n",
        "        with torch.no_grad():\n",
        "            output = model(inp)\n",
        "            output = output[:, -1, :]\n",
        "            output_text = torch.argmax(output, dim=1)\n",
        "            \n",
        "            for i in range(forward):\n",
        "                inp = torch.cat((inp, output_text.unsqueeze(1)), dim=1)\n",
        "                output = model(inp)\n",
        "                output = output[:, -1, :]\n",
        "                output_text = torch.argmax(output, dim=1)\n",
        "\n",
        "        return inp[:, inp_length:].cpu().detach().numpy()"
      ]
    },
    {
      "cell_type": "code",
      "execution_count": 7,
      "metadata": {
        "id": "TiUrjbEjSwRQ"
      },
      "outputs": [],
      "source": [
        "# TODO: define other hyperparameters here\n",
        "\n",
        "NUM_EPOCHS = 20\n",
        "BATCH_SIZE = 200\n",
        "EMB_DIM = 512\n",
        "HIDDEN_SIZE = 512"
      ]
    },
    {
      "cell_type": "code",
      "execution_count": 8,
      "metadata": {
        "id": "2HCVG5YISwRW"
      },
      "outputs": [
        {
          "name": "stdout",
          "output_type": "stream",
          "text": [
            "Saving models, predictions, and generated words to ./experiments/1670442001\n"
          ]
        }
      ],
      "source": [
        "run_id = str(int(time.time()))\n",
        "if not os.path.exists('./experiments'):\n",
        "    os.mkdir('./experiments')\n",
        "os.mkdir('./experiments/%s' % run_id)\n",
        "print(\"Saving models, predictions, and generated words to ./experiments/%s\" % run_id)"
      ]
    },
    {
      "cell_type": "code",
      "execution_count": 9,
      "metadata": {
        "id": "DbHH6zXTSwRa"
      },
      "outputs": [],
      "source": [
        "model = Model(len(vocab), embedding_dim=EMB_DIM, hidden_size=HIDDEN_SIZE)\n",
        "\n",
        "loader = DataLoaderForLanguageModeling(\n",
        "    dataset=dataset, \n",
        "    batch_size=BATCH_SIZE, \n",
        "    shuffle=True\n",
        ")\n",
        "trainer = Trainer(\n",
        "    model=model, \n",
        "    loader=loader, \n",
        "    max_epochs=NUM_EPOCHS, \n",
        "    run_id=run_id\n",
        ")"
      ]
    },
    {
      "cell_type": "code",
      "execution_count": 10,
      "metadata": {
        "id": "7D8wTJkBSwRc"
      },
      "outputs": [
        {
          "name": "stdout",
          "output_type": "stream",
          "text": [
            "[TRAIN]  Epoch [1/20]   Loss: 7.5761\n",
            "[VAL]  Epoch [1/20]   Loss: 6.7027\n",
            "Saving model, predictions and generated output for epoch 0 with NLL: 6.7026663\n",
            "[TRAIN]  Epoch [2/20]   Loss: 7.2681\n",
            "[VAL]  Epoch [2/20]   Loss: 6.6979\n",
            "Saving model, predictions and generated output for epoch 1 with NLL: 6.6978927\n",
            "[TRAIN]  Epoch [3/20]   Loss: 7.1773\n",
            "[VAL]  Epoch [3/20]   Loss: 6.4793\n",
            "Saving model, predictions and generated output for epoch 2 with NLL: 6.4792824\n",
            "[TRAIN]  Epoch [4/20]   Loss: 7.0262\n",
            "[VAL]  Epoch [4/20]   Loss: 6.2634\n",
            "Saving model, predictions and generated output for epoch 3 with NLL: 6.2634416\n",
            "[TRAIN]  Epoch [5/20]   Loss: 6.7755\n",
            "[VAL]  Epoch [5/20]   Loss: 6.1080\n",
            "Saving model, predictions and generated output for epoch 4 with NLL: 6.1080494\n",
            "[TRAIN]  Epoch [6/20]   Loss: 6.5563\n",
            "[VAL]  Epoch [6/20]   Loss: 5.8577\n",
            "Saving model, predictions and generated output for epoch 5 with NLL: 5.857664\n",
            "[TRAIN]  Epoch [7/20]   Loss: 6.3686\n",
            "[VAL]  Epoch [7/20]   Loss: 5.7622\n",
            "Saving model, predictions and generated output for epoch 6 with NLL: 5.762163\n",
            "[TRAIN]  Epoch [8/20]   Loss: 6.2192\n",
            "[VAL]  Epoch [8/20]   Loss: 5.6163\n",
            "Saving model, predictions and generated output for epoch 7 with NLL: 5.6162558\n",
            "[TRAIN]  Epoch [9/20]   Loss: 6.0875\n",
            "[VAL]  Epoch [9/20]   Loss: 5.4683\n",
            "Saving model, predictions and generated output for epoch 8 with NLL: 5.4683003\n",
            "[TRAIN]  Epoch [10/20]   Loss: 5.9819\n",
            "[VAL]  Epoch [10/20]   Loss: 5.4053\n",
            "Saving model, predictions and generated output for epoch 9 with NLL: 5.405316\n",
            "[TRAIN]  Epoch [11/20]   Loss: 5.8823\n",
            "[VAL]  Epoch [11/20]   Loss: 5.2722\n",
            "Saving model, predictions and generated output for epoch 10 with NLL: 5.2721567\n",
            "[TRAIN]  Epoch [12/20]   Loss: 5.7986\n",
            "[VAL]  Epoch [12/20]   Loss: 5.1705\n",
            "Saving model, predictions and generated output for epoch 11 with NLL: 5.1704874\n",
            "[TRAIN]  Epoch [13/20]   Loss: 5.7177\n",
            "[VAL]  Epoch [13/20]   Loss: 5.1597\n",
            "Saving model, predictions and generated output for epoch 12 with NLL: 5.159726\n",
            "[TRAIN]  Epoch [14/20]   Loss: 5.6348\n",
            "[VAL]  Epoch [14/20]   Loss: 5.0898\n",
            "Saving model, predictions and generated output for epoch 13 with NLL: 5.0898075\n",
            "[TRAIN]  Epoch [15/20]   Loss: 5.5670\n",
            "[VAL]  Epoch [15/20]   Loss: 5.0104\n",
            "Saving model, predictions and generated output for epoch 14 with NLL: 5.010442\n",
            "[TRAIN]  Epoch [16/20]   Loss: 5.5022\n",
            "[VAL]  Epoch [16/20]   Loss: 4.9805\n",
            "Saving model, predictions and generated output for epoch 15 with NLL: 4.98053\n",
            "[TRAIN]  Epoch [17/20]   Loss: 5.4299\n",
            "[VAL]  Epoch [17/20]   Loss: 4.9664\n",
            "Saving model, predictions and generated output for epoch 16 with NLL: 4.966424\n",
            "[TRAIN]  Epoch [18/20]   Loss: 5.3653\n",
            "[VAL]  Epoch [18/20]   Loss: 4.8852\n",
            "Saving model, predictions and generated output for epoch 17 with NLL: 4.8852396\n",
            "[TRAIN]  Epoch [19/20]   Loss: 5.3017\n",
            "[VAL]  Epoch [19/20]   Loss: 4.9304\n",
            "[TRAIN]  Epoch [20/20]   Loss: 5.2387\n",
            "[VAL]  Epoch [20/20]   Loss: 4.8566\n",
            "Saving model, predictions and generated output for epoch 19 with NLL: 4.856598\n"
          ]
        }
      ],
      "source": [
        "best_nll = 1e30 \n",
        "\n",
        "for epoch in range(NUM_EPOCHS):\n",
        "    trainer.train()\n",
        "    nll = trainer.test()\n",
        "    if nll < best_nll:\n",
        "        best_nll = nll\n",
        "        print(\"Saving model, predictions and generated output for epoch \"+str(epoch)+\" with NLL: \"+ str(best_nll))\n",
        "        \n",
        "        trainer.save()"
      ]
    },
    {
      "cell_type": "code",
      "execution_count": 11,
      "metadata": {},
      "outputs": [],
      "source": [
        "# nll = trainer.test()"
      ]
    },
    {
      "cell_type": "code",
      "execution_count": 12,
      "metadata": {
        "id": "z2FmDqBCSwRf"
      },
      "outputs": [
        {
          "data": {
            "image/png": "[encoded data removed]",
            "text/plain": [
              "<Figure size 640x480 with 1 Axes>"
            ]
          },
          "metadata": {},
          "output_type": "display_data"
        }
      ],
      "source": [
        "# Don't change these\n",
        "# plot training curves\n",
        "plt.figure()\n",
        "plt.plot(range(1, trainer.epochs + 1), trainer.train_losses, label='Training losses')\n",
        "plt.plot(range(1, trainer.epochs + 1), trainer.val_losses, label='Validation losses')\n",
        "plt.xlabel('Epochs')\n",
        "plt.ylabel('NLL')\n",
        "plt.legend()\n",
        "plt.show()"
      ]
    },
    {
      "cell_type": "code",
      "execution_count": 13,
      "metadata": {
        "id": "ipdbmqaGSwRh"
      },
      "outputs": [
        {
          "name": "stdout",
          "output_type": "stream",
          "text": [
            "Input | Output #0: while the group was en route , but only three were ultimately able to attack . None of them were | also used to the <unk> of the <unk> ,\n",
            "Input | Output #1: <unk> , where he remained on loan until 30 June 2010 . <eol> = = = Return to Manchester United | = = = <eol> = = = = <eol>\n",
            "Input | Output #2: 25 April 2013 , denoting shipments of 500 @,@ 000 copies . <eol> The song became One Direction 's fourth | @-@ year @-@ year @-@ yard . <eol> =\n",
            "Input | Output #3: , and Bruce R. ) one daughter ( Wendy J. <unk> ) and two grandchildren , died in <unk> , | and the <unk> of the <unk> . <eol> =\n",
            "Input | Output #4: Warrior were examples of this type . Because their armor was so heavy , they could only carry a single | @-@ <unk> . <eol> = = = = <unk>\n",
            "Input | Output #5: the embassy at 1 : 49 and landed on Guam at 2 : 23 ; twenty minutes later , Ambassador | , and the <unk> of the <unk> <unk> .\n",
            "Input | Output #6: <unk> , $ 96 million USD ) . Damage was heaviest in South Korea , notably where it moved ashore | in the United States . The storm was the\n",
            "Input | Output #7: The <unk> were condemned as <unk> by <unk> , who saw the riots as hampering attempts to resolve the situation | . <eol> = = = = <unk> = =\n",
            "Input | Output #8: by a decision made by the War Office in mid @-@ 1941 , as it was considering the equipment to | the <unk> of the <unk> . <eol> = =\n",
            "Input | Output #9: Division crossed the <unk> at a number of places and climbed the hills quietly toward the 9th Infantry river line | . The storm was also known as the <unk>\n",
            "Input | Output #10: = <eol> = = = French VIII . Corps ( Corps <unk> ) = = = <eol> On 6 November | , the first season was released in the United\n",
            "Input | Output #11: of the World from 9th Avenue \" . This is regarded as his most famous work . It is considered | a \" <unk> \" , and \" <unk> \"\n",
            "Input | Output #12: — <unk> @-@ 10 , <unk> @-@ 12 , <unk> @-@ 16 , <unk> @-@ 17 — were all converted | to the <unk> of the <unk> of the <unk>\n",
            "Input | Output #13: And now he has . \" <eol> = = Family = = <eol> <unk> lived 37 of his years in | the United States , and the first season of\n",
            "Input | Output #14: Hell to which he has been condemned for <unk> . Eliot , in a letter to John <unk> dated 27 | June , the <unk> of the <unk> of the\n",
            "Input | Output #15: Luoyang area , fulfilling his duties in domestic affairs . <eol> In the autumn of <unk> , he met Li | and <unk> , who was a <unk> of the\n",
            "Input | Output #16: Power said they enjoyed Block Ball and its number of stages , but wondered how its eight <unk> of memory | , the <unk> of the <unk> , who had\n",
            "Input | Output #17: by Lloyd F. Lonergan . The cameraman was Jacques <unk> . <eol> = = Release and reception = = <eol> | The first single in the United States was released\n",
            "Input | Output #18: alone , the Austrians lost more than half their reserve artillery park , 6 @,@ 000 ( out of 8 | @.@ 5 @.@ 5 @.@ 5 @.@ 5 @.@\n",
            "Input | Output #19: while attacking a ship at <unk> in the Dutch East Indies ; the loss was compounded by the fact that | the <unk> of the <unk> of the <unk> were\n",
            "Input | Output #20: first raised in 2007 by the member of parliament ( MP ) for <unk> . The gangsters may have run | in the <unk> of the <unk> , and the\n",
            "Input | Output #21: Species are also non @-@ spiny <unk> and includes both large trees with stout stems up to 30 metres ( | 1 @.@ 5 @.@ 5 @.@ 5 @.@ 5\n",
            "Input | Output #22: \" : specific design issues with the building 's energy efficiency included the fact that the largest room in the | <unk> is a <unk> . <eol> = = =\n",
            "Input | Output #23: were reported to support over 300 @,@ 000 households in the Brazilian state of <unk> in 2005 , and in | the United States , which was the first time\n",
            "Input | Output #24: port . <unk> in Vietnam also warned for the potential of heavy rainfall due to the dissipating Tropical Depression <unk> | . <eol> = = = = <unk> = =\n",
            "Input | Output #25: T @-@ numbers in their tropical cyclone products . The following example is from discussion number 3 of Tropical Depression | <unk> , <unk> , <unk> , <unk> , <unk>\n",
            "Input | Output #26: South Australia hosted the three @-@ game semi @-@ final series against the New South Wales <unk> . Both teams | were also known as the <unk> of the <unk>\n",
            "Input | Output #27: Perth from contention and secured the last finals spot for the <unk> . <eol> = = = Statistical leaders = | = = <eol> The first single in the first\n",
            "Input | Output #28: deemed it an \" amazing pop song \" , lauding the group 's falsetto and its \" head @-@ <unk> | \" . <eol> = = = = <unk> =\n",
            "Input | Output #29: , but began patrolling the English Channel after <unk> @-@ 6 pioneered a route past British <unk> nets and mines | . The <unk> of the <unk> <unk> , who\n",
            "Input | Output #30: production executives to let him direct . He had already discussed the film with <unk> and Cohen , and felt | that the <unk> of the <unk> of the <unk>\n",
            "Input | Output #31: and Nick <unk> at Studio <unk> in Los Angeles , California , and was released on August 1 , 2006 | . <eol> = = = = <unk> = =\n",
            "\n"
          ]
        }
      ],
      "source": [
        "# see generated output\n",
        "print (trainer.generated[-1]) # get last generated output"
      ]
    }
  ],
  "metadata": {
    "colab": {
      "name": "training.ipynb",
      "provenance": []
    },
    "kernelspec": {
      "display_name": "Python 3.8.13 ('idl')",
      "language": "python",
      "name": "python3"
    },
    "language_info": {
      "codemirror_mode": {
        "name": "ipython",
        "version": 3
      },
      "file_extension": ".py",
      "mimetype": "text/x-python",
      "name": "python",
      "nbconvert_exporter": "python",
      "pygments_lexer": "ipython3",
      "version": "3.8.13"
    },
    "vscode": {
      "interpreter": {
        "hash": "fc0b93f28feebb587aa2a7097fcb28d91fd6db70a4823a5bdd06af3f2d780868"
      }
    }
  },
  "nbformat": 4,
  "nbformat_minor": 0
}
