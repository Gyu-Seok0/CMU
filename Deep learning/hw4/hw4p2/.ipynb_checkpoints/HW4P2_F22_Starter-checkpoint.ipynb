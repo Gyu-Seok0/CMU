{
 "cells": [
  {
   "cell_type": "markdown",
   "metadata": {
    "id": "I8a_cZqr-UpV"
   },
   "source": [
    "# HW4P2: Attention-based Speech Recognition\n",
    "\n",
    "Welcome to the final assignment in 11785. In this HW, you will work on building a speech recognition system with attention. <br> <br>\n",
    "\n",
    "HW Writeup: https://piazza.com/class_profile/get_resource/l37uyxe87cq5xn/lam1lcjjj0314e <br>\n",
    "Kaggle competition link: https://www.kaggle.com/competitions/11-785-f22-hw4p2/ <br>\n",
    "LAS Paper: https://arxiv.org/pdf/1508.01211.pdf <br>\n",
    "Attention is all you need:https://arxiv.org/pdf/1706.03762.pdf"
   ]
  },
  {
   "cell_type": "markdown",
   "metadata": {
    "id": "Vlev_Tvq_bRz"
   },
   "source": [
    "# Initial Set-up"
   ]
  },
  {
   "cell_type": "code",
   "execution_count": 1,
   "metadata": {
    "id": "0pueIzbxUwyY",
    "scrolled": true
   },
   "outputs": [
    {
     "name": "stdout",
     "output_type": "stream",
     "text": [
      "Thu Dec  1 23:15:09 2022       \n",
      "+-----------------------------------------------------------------------------+\n",
      "| NVIDIA-SMI 470.141.03   Driver Version: 470.141.03   CUDA Version: 11.4     |\n",
      "|-------------------------------+----------------------+----------------------+\n",
      "| GPU  Name        Persistence-M| Bus-Id        Disp.A | Volatile Uncorr. ECC |\n",
      "| Fan  Temp  Perf  Pwr:Usage/Cap|         Memory-Usage | GPU-Util  Compute M. |\n",
      "|                               |                      |               MIG M. |\n",
      "|===============================+======================+======================|\n",
      "|   0  NVIDIA GeForce ...  Off  | 00000000:3B:00.0 Off |                  N/A |\n",
      "| 46%   43C    P0   135W / 370W |      8MiB / 24268MiB |      0%      Default |\n",
      "|                               |                      |                  N/A |\n",
      "+-------------------------------+----------------------+----------------------+\n",
      "|   1  NVIDIA GeForce ...  Off  | 00000000:86:00.0 Off |                  N/A |\n",
      "|  0%   41C    P8    18W / 370W |      8MiB / 24268MiB |      0%      Default |\n",
      "|                               |                      |                  N/A |\n",
      "+-------------------------------+----------------------+----------------------+\n",
      "|   2  NVIDIA GeForce ...  Off  | 00000000:AF:00.0 Off |                  N/A |\n",
      "| 26%   45C    P8    10W / 250W |     18MiB / 11176MiB |      0%      Default |\n",
      "|                               |                      |                  N/A |\n",
      "+-------------------------------+----------------------+----------------------+\n",
      "                                                                               \n",
      "+-----------------------------------------------------------------------------+\n",
      "| Processes:                                                                  |\n",
      "|  GPU   GI   CI        PID   Type   Process name                  GPU Memory |\n",
      "|        ID   ID                                                   Usage      |\n",
      "|=============================================================================|\n",
      "|    0   N/A  N/A      2115      G   /usr/lib/xorg/Xorg                  4MiB |\n",
      "|    1   N/A  N/A      2115      G   /usr/lib/xorg/Xorg                  4MiB |\n",
      "|    2   N/A  N/A      2115      G   /usr/lib/xorg/Xorg                  9MiB |\n",
      "|    2   N/A  N/A      2431      G   /usr/bin/gnome-shell                3MiB |\n",
      "+-----------------------------------------------------------------------------+\n"
     ]
    }
   ],
   "source": [
    "!nvidia-smi"
   ]
  },
  {
   "cell_type": "code",
   "execution_count": 2,
   "metadata": {
    "id": "tepaid_TDwWt"
   },
   "outputs": [],
   "source": [
    "# Install some required libraries\n",
    "# Feel free to add more if you want\n",
    "!pip install -q python-levenshtein torchsummaryX wandb"
   ]
  },
  {
   "cell_type": "markdown",
   "metadata": {
    "id": "lr4xGzRU-KZz"
   },
   "source": [
    "# Import"
   ]
  },
  {
   "cell_type": "code",
   "execution_count": 3,
   "metadata": {
    "id": "ZectxKF3XEVV"
   },
   "outputs": [
    {
     "name": "stdout",
     "output_type": "stream",
     "text": [
      "Device:  cuda\n"
     ]
    }
   ],
   "source": [
    "import os\n",
    "import pandas as pd\n",
    "import numpy as np\n",
    "import Levenshtein\n",
    "\n",
    "import torch\n",
    "import torchaudio\n",
    "\n",
    "import seaborn as sns\n",
    "import matplotlib.pyplot as plt\n",
    "\n",
    "from tqdm.notebook import tqdm\n",
    "import gc\n",
    "from torchsummaryX import summary\n",
    "import wandb\n",
    "from glob import glob\n",
    "import torch.nn as nn\n",
    "\n",
    "DEVICE = torch.device(\"cuda\" if torch.cuda.is_available() else \"cpu\")\n",
    "print(\"Device: \", DEVICE)"
   ]
  },
  {
   "cell_type": "code",
   "execution_count": 4,
   "metadata": {
    "id": "K5HLepZpA5WS"
   },
   "outputs": [],
   "source": [
    "# TODO: Import drive if you are a colab user"
   ]
  },
  {
   "cell_type": "markdown",
   "metadata": {
    "id": "OALQCI0EDCwh"
   },
   "source": [
    "# Config"
   ]
  },
  {
   "cell_type": "code",
   "execution_count": 5,
   "metadata": {
    "id": "AqDuibMCP345"
   },
   "outputs": [],
   "source": [
    "# Global config dict. Feel free to add or change if you want.\n",
    "config = {\n",
    "    'batch_size': 96,\n",
    "    'epochs': 30,\n",
    "    'lr': 1e-3\n",
    "}"
   ]
  },
  {
   "cell_type": "markdown",
   "metadata": {
    "id": "X7J4sY1OW9Pr"
   },
   "source": [
    "# Toy Data Setup"
   ]
  },
  {
   "cell_type": "markdown",
   "metadata": {
    "id": "JTsQB-pvRLLs"
   },
   "source": [
    "The toy dataset is very essential for you in this HW. The model which you will be building is complicated and you first need to make sure that it runs on the toy dataset. <br>\n",
    "In other words, you need convergence - the attention diagonal. Take a look at the write-up for this. <br>\n",
    "We have given you the following code to download the toy data and load it. You can use it the way it is. But be careful, the transcripts are different from the original data from kaggle. The toy dataset has phonemes but the actual data has characters."
   ]
  },
  {
   "cell_type": "code",
   "execution_count": 6,
   "metadata": {
    "id": "Des4AMIaW4E8"
   },
   "outputs": [],
   "source": [
    "# !wget -q https://cmu.box.com/shared/static/wok08c2z2dp4clufhy79c5ee6jx3pyj9 --content-disposition --show-progress\n",
    "# !wget -q https://cmu.box.com/shared/static/zctr6mvh7npfn01forli8n45duhp2g85 --content-disposition --show-progress\n",
    "# !wget -q https://cmu.box.com/shared/static/m2oaek69145ljeu6srtbbb7k0ip6yfup --content-disposition --show-progress\n",
    "# !wget -q https://cmu.box.com/shared/static/owrjy0tqra3v7zq2ru7mocy2djskydy9 --content-disposition --show-progress"
   ]
  },
  {
   "cell_type": "code",
   "execution_count": 7,
   "metadata": {
    "id": "2fLveDeiXCsb"
   },
   "outputs": [],
   "source": [
    "# # Load the toy dataset\n",
    "# X_train = np.load(\"f0176_mfccs_train.npy\")\n",
    "# X_valid = np.load(\"f0176_mfccs_dev.npy\")\n",
    "# Y_train = np.load(\"f0176_hw3p2_train.npy\")\n",
    "# Y_valid = np.load(\"f0176_hw3p2_dev.npy\")\n",
    "\n",
    "# # This is how you actually need to find out the different trancripts in a dataset. \n",
    "# # Can you think whats going on here? Why are we using a np.unique?\n",
    "# VOCAB_MAP           = dict(zip(np.unique(Y_valid), range(len(np.unique(Y_valid))))) \n",
    "# VOCAB_MAP[\"[PAD]\"]  = len(VOCAB_MAP)\n",
    "# VOCAB               = list(VOCAB_MAP.keys())\n",
    "\n",
    "# SOS_TOKEN = VOCAB_MAP[\"[SOS]\"]\n",
    "# EOS_TOKEN = VOCAB_MAP[\"[EOS]\"]\n",
    "# PAD_TOKEN = VOCAB_MAP[\"[PAD]\"]\n",
    "\n",
    "# Y_train = [np.array([VOCAB_MAP[p] for p in seq]) for seq in Y_train]\n",
    "# Y_valid = [np.array([VOCAB_MAP[p] for p in seq]) for seq in Y_valid]"
   ]
  },
  {
   "cell_type": "code",
   "execution_count": 8,
   "metadata": {
    "id": "iNjjsFqpbocR"
   },
   "outputs": [],
   "source": [
    "# # Dataset class for the Toy dataset\n",
    "# class ToyDataset(torch.utils.data.Dataset):\n",
    "\n",
    "#     def __init__(self, partition):\n",
    "\n",
    "#         if partition == \"train\":\n",
    "#             self.mfccs = X_train[:, :, :15]\n",
    "#             self.transcripts = Y_train\n",
    "\n",
    "#         elif partition == \"valid\":\n",
    "#             self.mfccs = X_valid[:, :, :15]\n",
    "#             self.transcripts = Y_valid\n",
    "\n",
    "#         assert len(self.mfccs) == len(self.transcripts)\n",
    "\n",
    "#         self.length = len(self.mfccs)\n",
    "\n",
    "#     def __len__(self):\n",
    "\n",
    "#         return self.length\n",
    "\n",
    "#     def __getitem__(self, i):\n",
    "\n",
    "#         x = torch.tensor(self.mfccs[i])\n",
    "#         y = torch.tensor(self.transcripts[i])\n",
    "\n",
    "#         return x, y\n",
    "\n",
    "#     def collate_fn(self, batch):\n",
    "\n",
    "#         x_batch, y_batch = list(zip(*batch))\n",
    "\n",
    "#         x_lens      = [x.shape[0] for x in x_batch] \n",
    "#         y_lens      = [y.shape[0] for y in y_batch] \n",
    "\n",
    "#         x_batch_pad = torch.nn.utils.rnn.pad_sequence(x_batch, batch_first=True, padding_value= EOS_TOKEN)\n",
    "#         y_batch_pad = torch.nn.utils.rnn.pad_sequence(y_batch, batch_first=True, padding_value= EOS_TOKEN) \n",
    "        \n",
    "#         return x_batch_pad, y_batch_pad, torch.tensor(x_lens), torch.tensor(y_lens)"
   ]
  },
  {
   "cell_type": "markdown",
   "metadata": {
    "id": "YWRjucnUdbQ1"
   },
   "source": [
    "# Kaggle Data"
   ]
  },
  {
   "cell_type": "code",
   "execution_count": 9,
   "metadata": {
    "id": "fStTuAQ6XAuD"
   },
   "outputs": [],
   "source": [
    "# # TODO: Use the same Kaggle code from HW1P2, HW2P2, HW3P2\n",
    "# !pip install --upgrade --force-reinstall --no-deps kaggle==1.5.8\n",
    "# !mkdir /root/.kaggle/\n",
    "\n",
    "# with open(\"/home/gyuseok/.kaggle/kaggle.json\", \"w+\") as f:\n",
    "#     f.write('{\"username\":\"leepro\",\"key\":\"2842f0b3a1e5a14ccddb8ba7fc0a016b\"}') \n",
    "\n",
    "# !chmod 600 /home/gyuseok/.kaggle/kaggle.json"
   ]
  },
  {
   "cell_type": "code",
   "execution_count": 10,
   "metadata": {
    "scrolled": true
   },
   "outputs": [],
   "source": [
    "# !mkdir \"./content/data\""
   ]
  },
  {
   "cell_type": "code",
   "execution_count": 11,
   "metadata": {
    "id": "nR74ooCSa664"
   },
   "outputs": [],
   "source": [
    "# # Download the data\n",
    "# !kaggle competitions download -c 11-785-f22-hw4p2\n",
    "# #!mkdir '/content/data'\n",
    "\n",
    "# !unzip -qo '11-785-f22-hw4p2.zip' -d './content/data'"
   ]
  },
  {
   "cell_type": "markdown",
   "metadata": {
    "id": "i5ioyn6ldQB9"
   },
   "source": [
    "# Dataset Class"
   ]
  },
  {
   "cell_type": "code",
   "execution_count": 12,
   "metadata": {
    "id": "YHix8UvpBWh7"
   },
   "outputs": [],
   "source": [
    "# These are the various characters in the transcripts of the datasetW\n",
    "VOCAB = ['<sos>',   \n",
    "         'A',   'B',    'C',    'D',    \n",
    "         'E',   'F',    'G',    'H',    \n",
    "         'I',   'J',    'K',    'L',       \n",
    "         'M',   'N',    'O',    'P',    \n",
    "         'Q',   'R',    'S',    'T', \n",
    "         'U',   'V',    'W',    'X', \n",
    "         'Y',   'Z',    \"'\",    ' ', \n",
    "         '<eos>']\n",
    "\n",
    "VOCAB_MAP = {VOCAB[i]:i for i in range(0, len(VOCAB))}\n",
    "\n",
    "SOS_TOKEN = VOCAB_MAP[\"<sos>\"]\n",
    "EOS_TOKEN = VOCAB_MAP[\"<eos>\"]"
   ]
  },
  {
   "cell_type": "code",
   "execution_count": 13,
   "metadata": {},
   "outputs": [],
   "source": [
    "path = \"/home/gyuseok/CMU/IDL/HW4/hw4p2/content/data/hw4p2\""
   ]
  },
  {
   "cell_type": "code",
   "execution_count": 14,
   "metadata": {},
   "outputs": [
    {
     "data": {
      "text/plain": [
       "['test-clean', 'dev-clean', 'train-clean-100', 'phonetics.py']"
      ]
     },
     "execution_count": 14,
     "metadata": {},
     "output_type": "execute_result"
    }
   ],
   "source": [
    "train_path = os.path.join(path, 'train-clean-100')\n",
    "val_path = os.path.join(path, 'dev-clean')\n",
    "test_path = os.path.join(path, 'test-clean')\n",
    "os.listdir(path)"
   ]
  },
  {
   "cell_type": "code",
   "execution_count": 15,
   "metadata": {},
   "outputs": [],
   "source": [
    "# TODO: Create a dataset class which is exactly the same as HW3P2. You are free to reuse it. \n",
    "# The only change is that the transcript mapping is different for this HW.\n",
    "# Note: We also want to retain SOS and EOS tokens in the transcript this time.\n",
    "\n",
    "import torchaudio\n",
    "from torch.nn.utils.rnn import pad_sequence, pack_padded_sequence, pad_packed_sequence\n",
    "\n",
    "class AudioDataset(torch.utils.data.Dataset):\n",
    "    def __init__(self, origin_path, VOCAB_MAP, train = True):\n",
    "        \n",
    "        # test\n",
    "        self.train = train\n",
    "        \n",
    "        # preprocess\n",
    "        self.mfcc_dir = os.path.join(origin_path, \"mfcc\")\n",
    "        self.mfcc_files = sorted(os.listdir(self.mfcc_dir))\n",
    "        \n",
    "        self.transcript_dir = os.path.join(origin_path, \"transcript\", \"raw\")\n",
    "        self.transcript_files = sorted(os.listdir(self.transcript_dir))\n",
    "        \n",
    "        self.VOCAB_MAP = VOCAB_MAP\n",
    "        \n",
    "        # length\n",
    "        self.length = len(self.mfcc_files)\n",
    "        \n",
    "        # save\n",
    "        self.mfccs = []\n",
    "        self.transcripts = []\n",
    "        \n",
    "        for i in range(self.length):\n",
    "            mfcc_path = os.path.join(self.mfcc_dir, self.mfcc_files[i])           \n",
    "            mfcc = np.load(mfcc_path)\n",
    "            self.mfccs.append(mfcc)\n",
    "\n",
    "            tran_path = os.path.join(self.transcript_dir, self.transcript_files[i])\n",
    "            tran = np.load(tran_path)\n",
    "            tran = np.vectorize(self.VOCAB_MAP.get)(tran)\n",
    "            self.transcripts.append(tran)\n",
    "        \n",
    "    def __len__(self):\n",
    "        return self.length\n",
    "        \n",
    "    \n",
    "    def __getitem__(self, ind):\n",
    "        mfcc = self.mfccs[ind]\n",
    "        mfcc = torch.FloatTensor(mfcc)\n",
    "    \n",
    "        tran = self.transcripts[ind]\n",
    "        tran = torch.LongTensor(tran)\n",
    "        return mfcc, tran\n",
    "        \n",
    "    def collate_fn(self, batch):\n",
    "        batch_mfcc = []\n",
    "        batch_tran = []\n",
    "        lengths_mfcc = []\n",
    "        lengths_tran = []\n",
    "        \n",
    "        for x,y in batch:\n",
    "            batch_mfcc.append(x)\n",
    "            lengths_mfcc.append(x.shape[0])\n",
    "\n",
    "            batch_tran.append(y)\n",
    "            lengths_tran.append(y.shape[0])\n",
    "                \n",
    "        batch_mfcc_pad = pad_sequence(batch_mfcc, batch_first = True)\n",
    "        batch_tran_pad = pad_sequence(batch_tran, batch_first = True)\n",
    "\n",
    "        if self.train:\n",
    "            T_mask = torchaudio.transforms.TimeMasking(time_mask_param = batch_mfcc_pad.shape[1]//8) # sequence\n",
    "            F_mask = torchaudio.transforms.FrequencyMasking(freq_mask_param = 4) #batch_mfcc_pad.shape[2]//2) # dim\n",
    "            batch_mfcc_pad = F_mask(T_mask(batch_mfcc_pad.permute(0,2,1))).permute(0,2,1)\n",
    "\n",
    "        return batch_mfcc_pad, batch_tran_pad, torch.tensor(lengths_mfcc), torch.tensor(lengths_tran)\n",
    "        "
   ]
  },
  {
   "cell_type": "code",
   "execution_count": 16,
   "metadata": {
    "id": "8SndiVRVqBMa"
   },
   "outputs": [],
   "source": [
    "# TODO: Create a dataset class which is exactly the same as HW3P2. You are free to reuse it. \n",
    "# The only change is that the transcript mapping is different for this HW.\n",
    "# Note: We also want to retain SOS and EOS tokens in the transcript this time.\n",
    "\n",
    "import torchaudio\n",
    "from torch.nn.utils.rnn import pad_sequence, pack_padded_sequence, pad_packed_sequence\n",
    "\n",
    "class AudioDatasetTest(torch.utils.data.Dataset):\n",
    "    def __init__(self, origin_path, VOCAB_MAP):\n",
    "        \n",
    "  \n",
    "        \n",
    "        # preprocess\n",
    "        self.mfcc_dir = os.path.join(origin_path, \"mfcc\")\n",
    "        self.mfcc_files = sorted(os.listdir(self.mfcc_dir))\n",
    "        \n",
    "        self.VOCAB_MAP = VOCAB_MAP\n",
    "        \n",
    "        # length\n",
    "        self.length = len(self.mfcc_files)\n",
    "        \n",
    "        # save\n",
    "        self.mfccs = []\n",
    "        self.transcripts = []\n",
    "        \n",
    "        for i in range(self.length):\n",
    "            mfcc_path = os.path.join(self.mfcc_dir, self.mfcc_files[i])           \n",
    "            mfcc = np.load(mfcc_path)\n",
    "            self.mfccs.append(mfcc)\n",
    "  \n",
    "    def __len__(self):\n",
    "        return self.length\n",
    "        \n",
    "    \n",
    "    def __getitem__(self, ind):\n",
    "        mfcc = self.mfccs[ind]\n",
    "        mfcc = torch.FloatTensor(mfcc)\n",
    "        return mfcc\n",
    "        \n",
    "    def collate_fn(self, batch):\n",
    "        batch_mfcc = []\n",
    "        batch_tran = []\n",
    "        lengths_mfcc = []\n",
    "        lengths_tran = []\n",
    "        \n",
    "        for x in batch:\n",
    "            batch_mfcc.append(x)\n",
    "            lengths_mfcc.append(x.shape[0])\n",
    "\n",
    "        batch_mfcc_pad = pad_sequence(batch_mfcc, batch_first = True)\n",
    "        \n",
    "        return batch_mfcc_pad, torch.tensor(lengths_mfcc)"
   ]
  },
  {
   "cell_type": "markdown",
   "metadata": {
    "id": "gQenneVsDLnX"
   },
   "source": [
    "# Dataset and Dataloaders"
   ]
  },
  {
   "cell_type": "code",
   "execution_count": 17,
   "metadata": {
    "id": "oi2FS_hkDQZB"
   },
   "outputs": [],
   "source": [
    "# TODO: Create the datasets and dataloaders\n",
    "path = \"/home/gyuseok/CMU/IDL/HW4/hw4p2/content/data/hw4p2\"\n",
    "train_path = os.path.join(path, 'train-clean-100')\n",
    "val_path = os.path.join(path, 'dev-clean')\n",
    "test_path = os.path.join(path, 'test-clean')\n",
    "\n",
    "train_data = AudioDataset(train_path, VOCAB_MAP, train = True)\n",
    "val_data = AudioDataset(val_path, VOCAB_MAP, train = False)\n",
    "test_data = AudioDatasetTest(test_path, VOCAB_MAP)\n",
    "\n",
    "# All these things are similar to HW3P2\n",
    "# You can reuse the same code\n",
    "# The sanity check for shapes also are similar\n",
    "# Please remember that the only change in the dataset for this HW is the transcripts\n",
    "# So you are expected to get similar shapes like HW3P2 (Pad, pack and Oh my!)"
   ]
  },
  {
   "cell_type": "markdown",
   "metadata": {},
   "source": [
    "# Cepstral Normalize"
   ]
  },
  {
   "cell_type": "code",
   "execution_count": 18,
   "metadata": {},
   "outputs": [],
   "source": [
    "import speechpy\n",
    "import numpy as np\n",
    "\n",
    "def concat_np(data: list):\n",
    "    return np.concatenate(data, axis = 0)\n",
    "\n",
    "def decompose_np(origin_data, target_data):\n",
    "    idxs = [0]\n",
    "    for i in range(len(origin_data)):\n",
    "        length = origin_data.mfccs[i].shape[0]\n",
    "        idxs.append(idxs[i] + length)\n",
    "    idxs = idxs[1:-1]\n",
    "    return np.split(target_data, idxs)\n",
    "    \n",
    "def noramlize_cmvn(train_data, val_data, test_data):\n",
    "    tr, val, te = concat_np(train_data.mfccs), concat_np(val_data.mfccs), concat_np(test_data.mfccs)\n",
    "    total_data = concat_np([tr, val, te])\n",
    "    total_data = speechpy.processing.cmvn(total_data, variance_normalization = False)\n",
    "    \n",
    "    train_idx = tr.shape[0]\n",
    "    test_idx = train_idx + val.shape[0]\n",
    "    \n",
    "    n_train = total_data[:train_idx, :]\n",
    "    n_val = total_data[train_idx:test_idx, :]\n",
    "    n_test = total_data[test_idx:, :]\n",
    "    \n",
    "    train_data.mfccs = decompose_np(train_data, n_train)\n",
    "    val_data.mfccs = decompose_np(val_data, n_val)\n",
    "    test_data.mfccs = decompose_np(test_data, n_test)"
   ]
  },
  {
   "cell_type": "code",
   "execution_count": 19,
   "metadata": {},
   "outputs": [],
   "source": [
    "noramlize_cmvn(train_data, val_data, test_data)"
   ]
  },
  {
   "cell_type": "markdown",
   "metadata": {},
   "source": [
    "# DataLoader"
   ]
  },
  {
   "cell_type": "code",
   "execution_count": 20,
   "metadata": {},
   "outputs": [
    {
     "data": {
      "text/plain": [
       "32"
      ]
     },
     "execution_count": 20,
     "metadata": {},
     "output_type": "execute_result"
    }
   ],
   "source": [
    "# get me RAMMM!!!! \n",
    "import gc\n",
    "torch.cuda.empty_cache()\n",
    "gc.collect()"
   ]
  },
  {
   "cell_type": "code",
   "execution_count": 21,
   "metadata": {},
   "outputs": [],
   "source": [
    "from torch.utils.data import Dataset, DataLoader\n",
    "\n",
    "train_loader = DataLoader(train_data, batch_size = config[\"batch_size\"], \n",
    "                          shuffle = True, drop_last = False, collate_fn = train_data.collate_fn,\n",
    "                           pin_memory = True) #TODO\n",
    "\n",
    "val_loader = DataLoader(val_data, batch_size = config[\"batch_size\"], \n",
    "                        shuffle = False, drop_last = False, collate_fn = val_data.collate_fn,\n",
    "                         pin_memory = True)\n",
    "\n",
    "test_loader = DataLoader(test_data, batch_size = config[\"batch_size\"], \n",
    "                         shuffle = False, drop_last = False, collate_fn = test_data.collate_fn,\n",
    "                          pin_memory = True)\n"
   ]
  },
  {
   "cell_type": "code",
   "execution_count": 22,
   "metadata": {},
   "outputs": [
    {
     "name": "stdout",
     "output_type": "stream",
     "text": [
      "Batch size:  96\n",
      "Train dataset samples = 28539, batches = 298\n",
      "Val dataset samples = 2703, batches = 29\n",
      "Test dataset samples = 2620, batches = 28\n"
     ]
    }
   ],
   "source": [
    "print(\"Batch size: \", config[\"batch_size\"])\n",
    "print(\"Train dataset samples = {}, batches = {}\".format(train_data.__len__(), len(train_loader)))\n",
    "print(\"Val dataset samples = {}, batches = {}\".format(val_data.__len__(), len(val_loader)))\n",
    "print(\"Test dataset samples = {}, batches = {}\".format(test_data.__len__(), len(test_loader)))"
   ]
  },
  {
   "cell_type": "code",
   "execution_count": 23,
   "metadata": {},
   "outputs": [
    {
     "name": "stdout",
     "output_type": "stream",
     "text": [
      "torch.Size([96, 1047, 15]) torch.Size([96])\n"
     ]
    }
   ],
   "source": [
    "# sanity check\n",
    "for data in test_loader:\n",
    "    x, lx, = data\n",
    "    print(x.shape, lx.shape)\n",
    "    break "
   ]
  },
  {
   "cell_type": "code",
   "execution_count": 24,
   "metadata": {},
   "outputs": [
    {
     "name": "stdout",
     "output_type": "stream",
     "text": [
      "torch.Size([96, 1659, 15]) torch.Size([96, 286]) torch.Size([96]) torch.Size([96])\n"
     ]
    }
   ],
   "source": [
    "# sanity check\n",
    "for data in train_loader:\n",
    "    x, y, lx, ly = data\n",
    "    print(x.shape, y.shape, lx.shape, ly.shape)\n",
    "    break "
   ]
  },
  {
   "cell_type": "code",
   "execution_count": 25,
   "metadata": {},
   "outputs": [
    {
     "name": "stdout",
     "output_type": "stream",
     "text": [
      "torch.Size([96, 2049, 15]) torch.Size([96, 296]) torch.Size([96]) torch.Size([96])\n"
     ]
    }
   ],
   "source": [
    "for data in val_loader:\n",
    "    x, y, lx, ly = data\n",
    "    print(x.shape, y.shape, lx.shape, ly.shape)\n",
    "    break "
   ]
  },
  {
   "cell_type": "markdown",
   "metadata": {
    "id": "I--VjKlEhwi8"
   },
   "source": [
    "# Model"
   ]
  },
  {
   "cell_type": "markdown",
   "metadata": {
    "id": "uql9E6cqROvJ"
   },
   "source": [
    "In this section you will be building the LAS model from scratch. Before starting to code, please read the writeup, paper and understand the following parts completely.<br>\n",
    "- Pyramidal Bi-LSTM \n",
    "- Listener\n",
    "- Attention\n",
    "- Speller\n",
    "\n",
    "After getting a good grasp of the workings of these modules, start coding. Follow the TODOs carefully. We will also be adding some extra features to the attention mechanism like keys and values which are not originally present in LAS. So we will be creating a hybrid network based on LAS and Attention is All You Need.\n"
   ]
  },
  {
   "cell_type": "markdown",
   "metadata": {
    "id": "lCbwz0LZMWwe"
   },
   "source": [
    "## Encoder"
   ]
  },
  {
   "cell_type": "markdown",
   "metadata": {
    "id": "XoI0zEoIMX5I"
   },
   "source": [
    "### Pyramidal Bi-LSTM"
   ]
  },
  {
   "cell_type": "code",
   "execution_count": 27,
   "metadata": {
    "id": "-F9zAQR95P55"
   },
   "outputs": [],
   "source": [
    "class pBLSTM(torch.nn.Module):\n",
    "\n",
    "    '''\n",
    "    Pyramidal BiLSTM\n",
    "    Read the write up/paper and understand the concepts and then write your implementation here.\n",
    "\n",
    "    At each step,\n",
    "    1. Pad your input if it is packed (Unpack it)\n",
    "    2. Reduce the input length dimension by concatenating feature dimension\n",
    "        (Tip: Write down the shapes and understand)\n",
    "        (i) How should  you deal with odd/even length input? \n",
    "        (ii) How should you deal with input length array (x_lens) after truncating the input?\n",
    "    3. Pack your input\n",
    "    4. Pass it into LSTM layer\n",
    "\n",
    "    To make our implementation modular, we pass 1 layer at a time.\n",
    "    '''\n",
    "    \n",
    "    def __init__(self, input_size, hidden_size):\n",
    "        super(pBLSTM, self).__init__()\n",
    "\n",
    "        self.blstm = nn.LSTM(input_size = input_size, # 두배가 되야할지도?\n",
    "                             hidden_size = hidden_size,\n",
    "                             num_layers = 1,\n",
    "                             bidirectional = True,\n",
    "                             #dropout = 0.15,\n",
    "                             batch_first = True)# TODO: Initialize a single layer bidirectional LSTM with the given input_size and hidden_size\n",
    "\n",
    "    def forward(self, x_packed): # x_packed is a PackedSequence\n",
    "\n",
    "        # TODO: Pad Packed Sequence\n",
    "        pad_x, pad_x_length = pad_packed_sequence(x_packed, batch_first = True)\n",
    "        # Call self.trunc_reshape() which downsamples the time steps of x and increases the feature dimensions as mentioned above\n",
    "        # self.trunc_reshape will return 2 outputs. What are they? Think about what quantites are changing.\n",
    "        x, x_lens = self.trunc_reshape(pad_x, pad_x_length)\n",
    "\n",
    "        # TODO: Pack Padded Sequence. What output(s) would you get?\n",
    "        out = pack_padded_sequence(x, x_lens.cpu().numpy(), batch_first=True, enforce_sorted=False)\n",
    "        \n",
    "        # TODO: Pass the sequence through bLSTM\n",
    "        out, _ = self.blstm(out)\n",
    "\n",
    "        # What do you return?\n",
    "        out, out_lens = pad_packed_sequence(out, batch_first= True)\n",
    "\n",
    "        return out, out_lens\n",
    "\n",
    "    def trunc_reshape(self, x, x_lens): \n",
    "        # TODO: If you have odd number of timesteps, how can you handle it? (Hint: You can exclude them)\n",
    "        # TODO: Reshape x. When reshaping x, you have to reduce number of timesteps by a downsampling factor while increasing number of features by the same factor\n",
    "        # TODO: Reduce lengths by the same downsampling factor\n",
    "\n",
    "        B,L,C = x.shape\n",
    "        if L % 2:\n",
    "            x = x[:, :L-1, :]\n",
    "        x = torch.reshape(x, (B, L//2, 2*C))\n",
    "        x_lens = torch.div(x_lens, 2, rounding_mode = \"trunc\")\n",
    "        \n",
    "        return x, x_lens"
   ]
  },
  {
   "cell_type": "markdown",
   "metadata": {
    "id": "_rchbyjlMeB2"
   },
   "source": [
    "### Listener"
   ]
  },
  {
   "cell_type": "code",
   "execution_count": 28,
   "metadata": {},
   "outputs": [],
   "source": [
    "import torch.nn as nn\n",
    "from torch.autograd import Variable\n",
    "\n",
    "class LockedDropout(nn.Module):\n",
    "    def __init__(self):\n",
    "        super().__init__()\n",
    "    def forward(self, x, dropout = 0.25):\n",
    "        if not self.training or not dropout:\n",
    "            return x\n",
    "        m = x.data.new(1, x.size(1), x.size(2)).bernoulli_(1 - dropout)\n",
    "        mask = Variable(m, requires_grad=False) / (1 - dropout)\n",
    "        mask = mask.expand_as(x)\n",
    "        return mask * x"
   ]
  },
  {
   "cell_type": "code",
   "execution_count": 29,
   "metadata": {
    "id": "912b3sVoHr1e"
   },
   "outputs": [],
   "source": [
    "class Listener(torch.nn.Module):\n",
    "    '''\n",
    "    The Encoder takes utterances as inputs and returns latent feature representations\n",
    "    '''\n",
    "    def __init__(self, input_size = 15, encoder_hidden_size = 128):\n",
    "        super(Listener, self).__init__()\n",
    "        \n",
    "        self.backbone = nn.Sequential(\n",
    "            nn.Conv1d(15, 256, kernel_size = 3, padding = 1),\n",
    "            nn.BatchNorm1d(256),\n",
    "            nn.GELU(),\n",
    "\n",
    "            nn.Conv1d(256, 256, kernel_size = 3, padding = 1),\n",
    "            nn.BatchNorm1d(256),\n",
    "            nn.GELU()\n",
    "        )\n",
    "        \n",
    "        \n",
    "        # The first LSTM at the very bottom\n",
    "        self.base_lstm = torch.nn.LSTM(input_size = input_size,\n",
    "                                       hidden_size = encoder_hidden_size//2,\n",
    "                                       num_layers = 3,\n",
    "                                       bidirectional = True,\n",
    "                                       dropout = 0.25,\n",
    "                                       batch_first = True) #TODO: Fill this up\n",
    "        self.pBLSTM1 = pBLSTM(input_size = encoder_hidden_size*2 , hidden_size = 256)\n",
    "        self.pBLSTM2 = pBLSTM(input_size = 256*4 , hidden_size = 256)\n",
    "        self.LD = LockedDropout()\n",
    "        \n",
    "#         self.pBLSTMs = torch.nn.Sequential( # How many pBLSTMs are required?\n",
    "#             # TODO: Fill this up with pBLSTMs - What should the input_size be? \n",
    "#             pBLSTM(input_size = encoder_hidden_size*4 , hidden_size = encoder_hidden_size),\n",
    "#             # Hint: You are downsampling timesteps by a factor of 2, upsampling features by a factor of 2 and the LSTM is bidirectional)\n",
    "            \n",
    "#             # Optional: Dropout/Locked Dropout after each pBLSTM (Not needed for early submission)\n",
    "#             # ...\n",
    "#             # ...\n",
    "#         )\n",
    "         \n",
    "    def forward(self, x, x_lens):\n",
    "        # Where are x and x_lens coming from? The dataloader\n",
    "        out = x.permute(0,2,1)\n",
    "        out = self.backbone(out) \n",
    "        out = out.permute(0,2,1)\n",
    "        \n",
    "        # TODO: Pack Padded Sequence\n",
    "        out = pack_padded_sequence(out, x_lens.cpu().numpy(), batch_first= True, enforce_sorted = False)\n",
    "        # TODO: Pass it through the first LSTM layer (no truncation)\n",
    "        out, _ = self.base_lstm(out)\n",
    "        # TODO: Pad Packed Sequence -> pBLSTMs에서 pad packed를 줌.\n",
    "        \n",
    "        # TODO: Pass Sequence through the pyramidal Bi-LSTM layer\n",
    "        out, out_lens = self.pBLSTM1(out)\n",
    "        \n",
    "        out = self.LD(out)\n",
    "        out = pack_padded_sequence(out, out_lens.cpu().numpy(), batch_first= True, enforce_sorted = False)\n",
    "        \n",
    "        encoder_outputs, encoder_lens = self.pBLSTM2(out)\n",
    "\n",
    "        # Remember the number of output(s) each function returns\n",
    "\n",
    "        return encoder_outputs, encoder_lens\n",
    "    \n",
    "    "
   ]
  },
  {
   "cell_type": "code",
   "execution_count": 30,
   "metadata": {},
   "outputs": [],
   "source": [
    "x,y,lx,ly = next(iter(train_loader))"
   ]
  },
  {
   "cell_type": "code",
   "execution_count": 31,
   "metadata": {
    "id": "0EgRqsKDI7dD"
   },
   "outputs": [
    {
     "name": "stdout",
     "output_type": "stream",
     "text": [
      "================================================================================\n",
      "                           Kernel Shape     Output Shape     Params  \\\n",
      "Layer                                                                 \n",
      "0_backbone.Conv1d_0        [15, 256, 3]  [96, 256, 1663]    11.776k   \n",
      "1_backbone.BatchNorm1d_1          [256]  [96, 256, 1663]      512.0   \n",
      "2_backbone.GELU_2                     -  [96, 256, 1663]          -   \n",
      "3_backbone.Conv1d_3       [256, 256, 3]  [96, 256, 1663]   196.864k   \n",
      "4_backbone.BatchNorm1d_4          [256]  [96, 256, 1663]      512.0   \n",
      "5_backbone.GELU_5                     -  [96, 256, 1663]          -   \n",
      "6_base_lstm                           -    [126024, 512]  4.206592M   \n",
      "7_pBLSTM1.LSTM_blstm                  -     [62988, 512]  2.625536M   \n",
      "8_LD                                  -   [96, 831, 512]          -   \n",
      "9_pBLSTM2.LSTM_blstm                  -     [31469, 512]  2.625536M   \n",
      "\n",
      "                            Mult-Adds  \n",
      "Layer                                  \n",
      "0_backbone.Conv1d_0         19.15776M  \n",
      "1_backbone.BatchNorm1d_1        256.0  \n",
      "2_backbone.GELU_2                   -  \n",
      "3_backbone.Conv1d_3       326.959104M  \n",
      "4_backbone.BatchNorm1d_4        256.0  \n",
      "5_backbone.GELU_5                   -  \n",
      "6_base_lstm                 4.194304M  \n",
      "7_pBLSTM1.LSTM_blstm         2.62144M  \n",
      "8_LD                                -  \n",
      "9_pBLSTM2.LSTM_blstm         2.62144M  \n",
      "--------------------------------------------------------------------------------\n",
      "                          Totals\n",
      "Total params           9.667328M\n",
      "Trainable params       9.667328M\n",
      "Non-trainable params         0.0\n",
      "Mult-Adds             355.55456M\n",
      "================================================================================\n"
     ]
    },
    {
     "name": "stderr",
     "output_type": "stream",
     "text": [
      "/home/gyuseok/anaconda3/envs/py390/lib/python3.9/site-packages/torchsummaryX/torchsummaryX.py:101: FutureWarning: Dropping of nuisance columns in DataFrame reductions (with 'numeric_only=None') is deprecated; in a future version this will raise TypeError.  Select only valid columns before calling the reduction.\n",
      "  df_sum = df.sum()\n"
     ]
    }
   ],
   "source": [
    "encoder = Listener(input_size = 256, encoder_hidden_size = 512) # TODO: Initialize Listener\n",
    "summary(encoder.to(DEVICE), x.to(DEVICE), lx)\n",
    "del encoder"
   ]
  },
  {
   "cell_type": "markdown",
   "metadata": {
    "id": "JJCpBcEmMVcZ"
   },
   "source": [
    "## Attention (Attend)"
   ]
  },
  {
   "cell_type": "markdown",
   "metadata": {
    "id": "f6k9R7jKMRcZ"
   },
   "source": [
    "### Different ways to compute Attention\n",
    "\n",
    "1. Dot-product attention\n",
    "    * raw_weights = bmm(key, query) \n",
    "    * Optional: Scaled dot-product by normalizing with sqrt key dimension \n",
    "    * Check \"Attention is All You Need\" Section 3.2.1\n",
    "    * 1st way is what most TAs are comfortable with, but if you want to explore, check out other methods below\n",
    "\n",
    "\n",
    "2. Cosine attention\n",
    "    * raw_weights = cosine(query, key) # almost the same as dot-product xD \n",
    "\n",
    "3. Bi-linear attention\n",
    "    * W = Linear transformation (learnable parameter): d_k -> d_q\n",
    "    * raw_weights = bmm(key @ W, query)\n",
    "\n",
    "4. Multi-layer perceptron\n",
    "    * Check \"Neural Machine Translation and Sequence-to-sequence Models: A Tutorial\" Section 8.4\n",
    "\n",
    "5. Multi-Head Attention\n",
    "    * Check \"Attention is All You Need\" Section 3.2.2\n",
    "    * h = Number of heads\n",
    "    * W_Q, W_K, W_V: Weight matrix for Q, K, V (h of them in total)\n",
    "    * W_O: d_v -> d_v\n",
    "    * Reshape K: (B, T, d_k) to (B, T, h, d_k // h) and transpose to (B, h, T, d_k // h)\n",
    "    * Reshape V: (B, T, d_v) to (B, T, h, d_v // h) and transpose to (B, h, T, d_v // h)\n",
    "    * Reshape Q: (B, d_q) to (B, h, d_q // h) `\n",
    "    * raw_weights = Q @ K^T\n",
    "    * masked_raw_weights = mask(raw_weights)\n",
    "    * attention = softmax(masked_raw_weights)\n",
    "    * multi_head = attention @ V\n",
    "    * multi_head = multi_head reshaped to (B, d_v)\n",
    "    * context = multi_head @ W_O"
   ]
  },
  {
   "cell_type": "code",
   "execution_count": 32,
   "metadata": {},
   "outputs": [],
   "source": [
    "def create_loss_mask(lens, DEVICE):\n",
    "    mask = torch.arange(max(lens))\n",
    "    mask = torch.tile(mask, (len(lens), 1))\n",
    "    t = torch.tile( lens.reshape((len(lens), 1)) , (1, mask.shape[1]))\n",
    "    mask = mask >= t # 주의하기.\n",
    "    return mask.to(DEVICE)"
   ]
  },
  {
   "cell_type": "code",
   "execution_count": 33,
   "metadata": {
    "id": "pqu-MUM8TjUO"
   },
   "outputs": [],
   "source": [
    "import math\n",
    "\n",
    "def plot_attention(attention): \n",
    "    # Function for plotting attention\n",
    "    # You need to get a diagonal plot\n",
    "    plt.clf()\n",
    "    sns.heatmap(attention, cmap='GnBu')\n",
    "    plt.show()\n",
    "\n",
    "class Attention(torch.nn.Module):\n",
    "    '''\n",
    "    Attention is calculated using the key, value (from encoder hidden states) and query from decoder.\n",
    "    Here are different ways to compute attention and context:\n",
    "\n",
    "    After obtaining the raw weights, compute and return attention weights and context as follows.:\n",
    "\n",
    "    masked_raw_weights  = mask(raw_weights) # mask out padded elements with big negative number (e.g. -1e9 or -inf in FP16)\n",
    "    attention           = softmax(masked_raw_weights)\n",
    "    context             = bmm(attention, value)\n",
    "    \n",
    "    At the end, you can pass context through a linear layer too.\n",
    "\n",
    "    '''\n",
    "    \n",
    "    def __init__(self, encoder_hidden_size, decoder_output_size, projection_size, DEVICE):\n",
    "        super(Attention, self).__init__()\n",
    "\n",
    "        self.key_projection     = nn.Linear(encoder_hidden_size, projection_size)# TODO: Define an nn.Linear layer which projects the encoder_hidden_state to keys\n",
    "        self.value_projection   = nn.Linear(encoder_hidden_size, projection_size)# TODO: Define an nn.Linear layer which projects the encoder_hidden_state to value\n",
    "        self.query_projection   = nn.Linear(decoder_output_size, projection_size)# TODO: Define an nn.Linear layer which projects the decoder_output_state to query\n",
    "        # Optional : Define an nn.Linear layer which projects the context vector\n",
    "\n",
    "        self.softmax            = nn.Softmax(dim = 1) # TODO: Define a softmax layer. Think about the dimension which you need to apply \n",
    "        # Tip: What is the shape of energy? And what are those?\n",
    "        self.DEVICE = DEVICE\n",
    "\n",
    "    # As you know, in the attention mechanism, the key, value and mask are calculated only once.\n",
    "    # This function is used to calculate them and set them to self\n",
    "    def set_key_value_mask(self, encoder_outputs, encoder_lens):\n",
    "    \n",
    "        _, encoder_max_seq_len, _ = encoder_outputs.shape\n",
    "        self.key      = self.key_projection(encoder_outputs) # TODO: Project encoder_outputs using key_projection to get keys\n",
    "        self.value    = self.value_projection(encoder_outputs) # TODO: Project encoder_outputs using value_projection to get values\n",
    "\n",
    "        # encoder_max_seq_len is of shape (batch_size, ) which consists of the lengths encoder output sequences in that batch\n",
    "        # The raw_weights are of shape (batch_size, timesteps)\n",
    "\n",
    "        # TODO: To remove the influence of padding in the raw_weights, we want to create a boolean mask of shape (batch_size, timesteps) \n",
    "        # The mask is False for all indicies before padding begins, True for all indices after.\n",
    "        self.padding_mask = create_loss_mask(encoder_lens, self.DEVICE)\n",
    "        # TODO: You want to use a comparison between encoder_max_seq_len and encoder_lens to create this mask. \n",
    "        # (Hint: Broadcasting gives you a one liner)\n",
    "        \n",
    "    def forward(self, decoder_output_embedding):\n",
    "        # key   : (batch_size, timesteps, projection_size)\n",
    "        # value : (batch_size, timesteps, projection_size)\n",
    "        # query : (batch_size, projection_size)\n",
    "\n",
    "        self.query         = self.query_projection(decoder_output_embedding) # TODO: Project the query using query_projection\n",
    "\n",
    "        # Hint: Take a look at torch.bmm for the products below \n",
    "        ratio = 1/math.sqrt(self.query_projection.weight.shape[0])\n",
    "        raw_weights        = torch.bmm(torch.unsqueeze(self.query, 1), self.key.permute(0,2,1)).squeeze()  # TODO: Calculate raw_weights which is the product of query and key, and is of shape (batch_size, timesteps)\n",
    "        raw_weights        = raw_weights * ratio\n",
    "        \n",
    "        masked_raw_weights = raw_weights.masked_fill(self.padding_mask, -np.inf) # TODO: Mask the raw_weights with self.padding_mask. \n",
    "        # Take a look at pytorch's masked_fill_ function (You want the fill value to be a big negative number for the softmax to make it close to 0)\n",
    "\n",
    "        attention_weights  = self.softmax(masked_raw_weights) # TODO: Calculate the attention weights, which is the softmax of raw_weights\n",
    "        context            = torch.bmm(attention_weights.unsqueeze(dim = 1), self.value).squeeze() # TODO: Calculate the context - it is a product between attention_weights and value\n",
    "\n",
    "        # Hint: You might need to use squeeze/unsqueeze to make sure that your operations work with bmm\n",
    "\n",
    "        return context, attention_weights # Return the context, attention_weights"
   ]
  },
  {
   "cell_type": "markdown",
   "metadata": {
    "id": "78XOdWExMSi-"
   },
   "source": [
    "## Decoder"
   ]
  },
  {
   "cell_type": "markdown",
   "metadata": {
    "id": "TuUQTy2NMlbT"
   },
   "source": [
    "### Speller"
   ]
  },
  {
   "cell_type": "code",
   "execution_count": 34,
   "metadata": {
    "id": "y7-R6BTuT8dm"
   },
   "outputs": [],
   "source": [
    "\n",
    "class Speller(torch.nn.Module):\n",
    "\n",
    "    def __init__(self, embed_size, decoder_hidden_size, decoder_output_size, vocab_size, attention_module = None, DEVICE = None):\n",
    "        super().__init__()\n",
    "\n",
    "        self.vocab_size         = vocab_size\n",
    "\n",
    "        self.embedding          = nn.Embedding(vocab_size, embed_size) # TODO: Initialize the Embedding Layer (Use the nn.Embedding Layer from torch), make sure you set the correct padding_idx  \n",
    "\n",
    "        self.lstm_cells         = torch.nn.Sequential(\n",
    "                                # Create Two LSTM Cells as per LAS Architecture\n",
    "                                # What should the input_size of the first LSTM Cell? \n",
    "                                # Hint: It takes in a combination of the character embedding and context from attention\n",
    "                                nn.LSTMCell(embed_size + attention_module.value_projection.weight.shape[0], decoder_hidden_size),\n",
    "                                nn.LSTMCell(decoder_hidden_size, decoder_output_size)\n",
    "            \n",
    "                                )\n",
    "    \n",
    "                                # We are using LSTMCells because process individual time steps inputs and not the whole sequence.\n",
    "                                # Think why we need this in terms of the query\n",
    "\n",
    "        self.char_prob          = nn.Linear(embed_size, vocab_size) # TODO: Initialize the classification layer to generate your probability distribution over all characters\n",
    "\n",
    "        self.char_prob.weight   = self.embedding.weight # Weight tying\n",
    "\n",
    "        self.attention          = attention_module\n",
    "        \n",
    "        self.DEVICE = DEVICE\n",
    "        \n",
    "        self.training = False\n",
    "\n",
    "    \n",
    "    def forward(self, encoder_outputs, encoder_lens, y = None, tf_rate = None): \n",
    "\n",
    "        '''\n",
    "        Args: \n",
    "            embedding: Attention embeddings \n",
    "            hidden_list: List of Hidden States for the LSTM Cells\n",
    "        ''' \n",
    "\n",
    "        batch_size, encoder_max_seq_len, _ = encoder_outputs.shape\n",
    "        \n",
    "        if y is not None:\n",
    "            self.training = True\n",
    "            \n",
    "        if self.training:\n",
    "            timesteps     = y.shape[1] # The number of timesteps is the sequence of length of your transcript during training\n",
    "            label_embed   = self.embedding(y) # Embeddings of the transcript, when we want to use teacher forcing\n",
    "        else:\n",
    "            timesteps     = 600 # 600 is a design choice that we recommend, however you are free to experiment.\n",
    "        \n",
    "\n",
    "        # INITS\n",
    "        predictions     = []\n",
    "\n",
    "        # Initialize the first character input to your decoder, SOS\n",
    "        char            = torch.full((batch_size,), fill_value=SOS_TOKEN, dtype= torch.long).to(self.DEVICE) \n",
    "\n",
    "        # Initialize a list to keep track of LSTM Cell Hidden and Cell Memory States, to None\n",
    "        hidden_states   = [None]*len(self.lstm_cells) #\n",
    "\n",
    "        attention_plot          = []\n",
    "        context                 = None # TODO: Initialize context (You have a few choices, refer to the writeup )\n",
    "        attention_weights       = torch.zeros(batch_size, encoder_max_seq_len) # Attention Weights are zero if not using Attend Module\n",
    "\n",
    "        # Set Attention Key, Value, Padding Mask just once\n",
    "        if self.attention != None:\n",
    "            self.attention.set_key_value_mask(encoder_outputs, encoder_lens)\n",
    "            \n",
    "            # context 정의하기.\n",
    "            context = torch.mean(self.attention.value, dim = 1)\n",
    "            \n",
    "\n",
    "\n",
    "        for t in range(timesteps):\n",
    "            \n",
    "            char_embed = self.embedding(char) #TODO: Generate the embedding for the character at timestep t\n",
    "\n",
    "            if self.training and t > 0:\n",
    "                # TODO: We want to decide which embedding to use as input for the decoder during training\n",
    "                # We can use the embedding of the transcript character or the embedding of decoded/predicted character, from the previous timestep \n",
    "                # Using the embedding of the transcript character is teacher forcing, it is very important for faster convergence\n",
    "                # Use a comparison between a random probability and your teacher forcing rate, to decide which embedding to use\n",
    "                if torch.rand(1).item() < tf_rate:\n",
    "                    char_embed = label_embed[:,t,:] \n",
    "      \n",
    "            decoder_input_embedding = torch.cat([char_embed, context], dim = 1) # TODO: What do we want to concatenate as input to the decoder? (Use torch.cat)\n",
    "            \n",
    "            # Loop over your lstm cells\n",
    "            # Each lstm cell takes in an embedding \n",
    "            for i in range(len(self.lstm_cells)):\n",
    "                # An LSTM Cell returns (h,c) -> h = hidden state, c = cell memory state\n",
    "                # Using 2 LSTM Cells is akin to a 2 layer LSTM looped through t timesteps \n",
    "                # The second LSTM Cell takes in the output hidden state of the first LSTM Cell (from the current timestep) as Input, along with the hidden and cell states of the cell from the previous timestep\n",
    "                hidden_states[i] = self.lstm_cells[i](decoder_input_embedding, hidden_states[i]) \n",
    "                decoder_input_embedding = hidden_states[i][0]\n",
    "\n",
    "            # The output embedding from the decoder is the hidden state of the last LSTM Cell\n",
    "            decoder_output_embedding = hidden_states[-1][0]\n",
    "\n",
    "            # We compute attention from the output of the last LSTM Cell\n",
    "            if self.attention != None:\n",
    "                context, attention_weights = self.attention(decoder_output_embedding) # The returned query is the projected query\n",
    "\n",
    "            attention_plot.append(attention_weights[0].detach().cpu())\n",
    "\n",
    "            output_embedding     = torch.cat([decoder_output_embedding, context], dim = 1) # TODO: Concatenate the projected query with context for the output embedding\n",
    "            # Hint: How can you get the projected query from attention\n",
    "            # If you are not using attention, what will you use instead of query?\n",
    "\n",
    "            char_prob            = self.char_prob(output_embedding)\n",
    "            \n",
    "            # Append the character probability distribution to the list of predictions \n",
    "            predictions.append(char_prob)\n",
    "\n",
    "            char = torch.argmax(char_prob, dim = 1) # TODO: Get the predicted character for the next timestep from the probability distribution \n",
    "            # (Hint: Use Greedy Decoding for starters)\n",
    "\n",
    "        attention_plot  = torch.stack(attention_plot, dim = 1) # TODO: Stack list of attetion_plots \n",
    "        predictions     = torch.stack(predictions, dim = 2) # TODO: Stack list of predictions \n",
    "\n",
    "        return predictions, attention_plot\n",
    "    "
   ]
  },
  {
   "cell_type": "markdown",
   "metadata": {
    "id": "lMgncQmVMnCO"
   },
   "source": [
    "## Sequence-to-Sequence Model"
   ]
  },
  {
   "cell_type": "markdown",
   "metadata": {
    "id": "LWWzurvXM0iv"
   },
   "source": [
    "### LAS"
   ]
  },
  {
   "cell_type": "code",
   "execution_count": 35,
   "metadata": {
    "id": "zcTC4cK95TYT"
   },
   "outputs": [],
   "source": [
    "class LAS(torch.nn.Module):\n",
    "    def __init__(self, input_size, encoder_hidden_size, \n",
    "                 vocab_size, embed_size,\n",
    "                 decoder_hidden_size, decoder_output_size,\n",
    "                 projection_size, DEVICE):\n",
    "        \n",
    "        super(LAS, self).__init__()\n",
    "\n",
    "        self.encoder        = Listener(input_size, encoder_hidden_size) # TODO: Initialize Encoder\n",
    "        attention_module    = Attention(encoder_hidden_size, decoder_output_size, projection_size, DEVICE)# TODO: Initialize Attention\n",
    "        self.decoder        = Speller(embed_size,\n",
    "                                      decoder_hidden_size,\n",
    "                                      decoder_output_size,\n",
    "                                      vocab_size,\n",
    "                                      attention_module,\n",
    "                                      DEVICE) # TODO: Initialize Decoder, make sure you pass the attention module \n",
    "\n",
    "\n",
    "    def forward(self, x, x_lens, y = None, tf_rate = None):\n",
    "\n",
    "        encoder_outputs, encoder_lens = self.encoder(x, x_lens) # from Listener\n",
    "        predictions, attention_plot = self.decoder(encoder_outputs, encoder_lens, y, tf_rate)\n",
    "        \n",
    "        return predictions, attention_plot\n",
    "    "
   ]
  },
  {
   "cell_type": "markdown",
   "metadata": {
    "id": "EHMzR6fLht5n"
   },
   "source": [
    "# Training Setup"
   ]
  },
  {
   "cell_type": "markdown",
   "metadata": {
    "id": "TI2AKhQ6YP6F"
   },
   "source": [
    "## Model Setup\n",
    "\n",
    "\n",
    "\n",
    "\n",
    "\n",
    "\n",
    "\n",
    "\n"
   ]
  },
  {
   "cell_type": "code",
   "execution_count": 36,
   "metadata": {},
   "outputs": [],
   "source": [
    "input_size = 256 #15인데 cnn 추가함.\n",
    "encoder_hidden_size = 512 # encoder에서는 256으로 setting\n",
    "vocab_size = len(VOCAB)\n",
    "embed_size = 256\n",
    "decoder_hidden_size = 512\n",
    "decoder_output_size = 128\n",
    "projection_size = 128"
   ]
  },
  {
   "cell_type": "code",
   "execution_count": 37,
   "metadata": {
    "id": "IS-YUHQlYQmL"
   },
   "outputs": [
    {
     "name": "stdout",
     "output_type": "stream",
     "text": [
      "LAS(\n",
      "  (encoder): Listener(\n",
      "    (backbone): Sequential(\n",
      "      (0): Conv1d(15, 256, kernel_size=(3,), stride=(1,), padding=(1,))\n",
      "      (1): BatchNorm1d(256, eps=1e-05, momentum=0.1, affine=True, track_running_stats=True)\n",
      "      (2): GELU(approximate=none)\n",
      "      (3): Conv1d(256, 256, kernel_size=(3,), stride=(1,), padding=(1,))\n",
      "      (4): BatchNorm1d(256, eps=1e-05, momentum=0.1, affine=True, track_running_stats=True)\n",
      "      (5): GELU(approximate=none)\n",
      "    )\n",
      "    (base_lstm): LSTM(256, 256, num_layers=3, batch_first=True, dropout=0.25, bidirectional=True)\n",
      "    (pBLSTM1): pBLSTM(\n",
      "      (blstm): LSTM(1024, 256, batch_first=True, bidirectional=True)\n",
      "    )\n",
      "    (pBLSTM2): pBLSTM(\n",
      "      (blstm): LSTM(1024, 256, batch_first=True, bidirectional=True)\n",
      "    )\n",
      "    (LD): LockedDropout()\n",
      "  )\n",
      "  (decoder): Speller(\n",
      "    (embedding): Embedding(30, 256)\n",
      "    (lstm_cells): Sequential(\n",
      "      (0): LSTMCell(384, 512)\n",
      "      (1): LSTMCell(512, 128)\n",
      "    )\n",
      "    (char_prob): Linear(in_features=256, out_features=30, bias=True)\n",
      "    (attention): Attention(\n",
      "      (key_projection): Linear(in_features=512, out_features=128, bias=True)\n",
      "      (value_projection): Linear(in_features=512, out_features=128, bias=True)\n",
      "      (query_projection): Linear(in_features=128, out_features=128, bias=True)\n",
      "      (softmax): Softmax(dim=1)\n",
      "    )\n",
      "  )\n",
      ")\n"
     ]
    }
   ],
   "source": [
    "# Baseline LAS has the following configuration:\n",
    "# Encoder bLSTM/pbLSTM Hidden Dimension of 512 (256 per direction)\n",
    "# Decoder Embedding Layer Dimension of 256\n",
    "# Decoder Hidden Dimension of 512 \n",
    "# Decoder Output Dimension of 128\n",
    "# Attention Projection Size of 128\n",
    "# Feel Free to Experiment with this \n",
    "\n",
    "# Initialize your model \n",
    "# Read the paper and think about what dimensions should be used\n",
    "# You can experiment on these as well, but they are not requried for the early submission\n",
    "# Remember that if you are using weight tying, some sizes need to be the same\n",
    "model = LAS(\n",
    "    input_size, \n",
    "    encoder_hidden_size, \n",
    "    vocab_size, \n",
    "    embed_size,\n",
    "    decoder_hidden_size,\n",
    "    decoder_output_size,\n",
    "    projection_size,\n",
    "    DEVICE\n",
    ")\n",
    "\n",
    "model = model.to(DEVICE)\n",
    "print(model)"
   ]
  },
  {
   "cell_type": "markdown",
   "metadata": {
    "id": "TDmcYul-YSdC"
   },
   "source": [
    "## Optimizer, Scheduler, Loss"
   ]
  },
  {
   "cell_type": "code",
   "execution_count": 39,
   "metadata": {
    "id": "_HwmgDSvbtmd"
   },
   "outputs": [],
   "source": [
    "optimizer   = torch.optim.Adam(model.parameters(), lr= config['lr'], amsgrad= True, weight_decay= 5e-6)\n",
    "criterion   = torch.nn.CrossEntropyLoss(reduction='none') # Why are we using reduction = 'none' ? \n",
    "scaler      = torch.cuda.amp.GradScaler()\n",
    "\n",
    "# Optional: Create a custom class for a Teacher Force Schedule "
   ]
  },
  {
   "cell_type": "markdown",
   "metadata": {
    "id": "baHCja89YV-m"
   },
   "source": [
    "# Levenshtein Distance"
   ]
  },
  {
   "cell_type": "code",
   "execution_count": 40,
   "metadata": {
    "id": "GDYZnnLbqJ8J"
   },
   "outputs": [],
   "source": [
    "# We have given you this utility function which takes a sequence of indices and converts them to a list of characters\n",
    "def indices_to_chars(indices, vocab):\n",
    "    tokens = []\n",
    "    for i in indices: # This loops through all the indices\n",
    "        if vocab[int(i)] == SOS_TOKEN: # If SOS is encountered, dont add it to the final list\n",
    "            continue\n",
    "        elif vocab[int(i)] == EOS_TOKEN: # If EOS is encountered, stop the decoding process\n",
    "            break\n",
    "        else:\n",
    "            tokens.append(vocab[i])\n",
    "    return tokens\n",
    "\n",
    "# To make your life more easier, we have given the Levenshtein distantce / Edit distance calculation code\n",
    "def calc_edit_distance(predictions, y, ly, vocab= VOCAB, print_example= False):\n",
    "\n",
    "    dist                = 0\n",
    "    batch_size, seq_len = predictions.shape\n",
    "\n",
    "    for batch_idx in range(batch_size): \n",
    "\n",
    "        y_sliced    = indices_to_chars(y[batch_idx,0:ly[batch_idx]], vocab)\n",
    "        pred_sliced = indices_to_chars(predictions[batch_idx], vocab)\n",
    "\n",
    "        # Strings - When you are using characters from the AudioDataset\n",
    "        y_string    = ''.join(y_sliced)\n",
    "        pred_string = ''.join(pred_sliced)\n",
    "        \n",
    "        dist        += Levenshtein.distance(pred_string, y_string)\n",
    "        # Comment the above abd uncomment below for toy dataset \n",
    "        # dist      += Levenshtein.distance(y_sliced, pred_sliced)\n",
    "\n",
    "    if print_example: \n",
    "        # Print y_sliced and pred_sliced if you are using the toy dataset\n",
    "        print(\"Ground Truth : \", y_string)\n",
    "        print(\"Prediction   : \", pred_string)\n",
    "        \n",
    "    dist/=batch_size\n",
    "    return dist"
   ]
  },
  {
   "cell_type": "markdown",
   "metadata": {
    "id": "1zjfF88iZ4Nc"
   },
   "source": [
    "# Train and Evaluate"
   ]
  },
  {
   "cell_type": "code",
   "execution_count": 41,
   "metadata": {
    "id": "wIXzhQclhs98"
   },
   "outputs": [],
   "source": [
    "def train(model, dataloader, criterion, optimizer, teacher_forcing_rate, DEVICE):\n",
    "\n",
    "    model.train()\n",
    "    batch_bar = tqdm(total=len(dataloader), dynamic_ncols=True, leave=False, position=0, desc='Train')\n",
    "\n",
    "    running_loss        = 0.0\n",
    "    running_perplexity  = 0.0\n",
    "    running_lev_dist = 0.0\n",
    "\n",
    "    for i, (x, y, lx, ly) in enumerate(dataloader):\n",
    "\n",
    "        optimizer.zero_grad()\n",
    "\n",
    "        x, y, lx, ly = x.to(DEVICE), y.to(DEVICE), lx, ly\n",
    "\n",
    "        with torch.cuda.amp.autocast():\n",
    "\n",
    "            predictions, attention_plot = model(x, lx, y= y, tf_rate= teacher_forcing_rate)\n",
    "            greedy_predictions   = torch.argmax(predictions, dim = 1) # TODO: How do you get the most likely character from each distribution in the batch?\n",
    "\n",
    "            # Calculate Levenshtein Distance\n",
    "            running_lev_dist    += calc_edit_distance(greedy_predictions, y, ly, VOCAB, print_example = False) # You can use print_example = True for one specific index i in your batches if you want\n",
    "\n",
    "\n",
    "            # Predictions are of Shape (batch_size, timesteps, vocab_size). \n",
    "            # Transcripts are of shape (batch_size, timesteps) Which means that you have batch_size amount of batches with timestep number of tokens.\n",
    "            # So in total, you have batch_size*timesteps amount of characters.\n",
    "            # Similarly, in predictions, you have batch_size*timesteps amount of probability distributions.\n",
    "            # How do you need to modify transcipts and predictions so that you can calculate the CrossEntropyLoss? Hint: Use Reshape/View and read the docs\n",
    "            loss        =  criterion(predictions, y) # TODO: Cross Entropy Loss\n",
    "\n",
    "            mask        = create_loss_mask(ly, DEVICE)# TODO: Create a boolean mask using the lengths of your transcript that remove the influence of padding indices (in transcripts) in the loss \n",
    "            masked_loss = loss.masked_fill(mask, 0) # Product between the mask and the loss, divided by the mask's sum. Hint: You may want to reshape the mask too \n",
    "            masked_loss = masked_loss.sum() / (mask.shape[0] * mask.shape[1] - mask.sum())\n",
    "            perplexity  = torch.exp(masked_loss) # Perplexity is defined the exponential of the loss\n",
    "\n",
    "            running_loss        += masked_loss.item()\n",
    "            running_perplexity  += perplexity.item()\n",
    "        \n",
    "        # Backward on the masked loss\n",
    "        scaler.scale(masked_loss).backward()\n",
    "\n",
    "        # Optional: Use torch.nn.utils.clip_grad_norm to clip gradients to prevent them from exploding, if necessary\n",
    "        # If using with mixed precision, unscale the Optimizer First before doing gradient clipping\n",
    "        \n",
    "        scaler.step(optimizer)\n",
    "        scaler.update()\n",
    "        \n",
    "\n",
    "        batch_bar.set_postfix(\n",
    "            loss=\"{:.04f}\".format(running_loss/(i+1)),\n",
    "            dist=\"{:.04f}\".format(running_lev_dist/(i+1)),\n",
    "            perplexity=\"{:.04f}\".format(running_perplexity/(i+1)),\n",
    "            lr=\"{:.04f}\".format(float(optimizer.param_groups[0]['lr'])),\n",
    "            tf_rate='{:.02f}'.format(teacher_forcing_rate))\n",
    "        batch_bar.update()\n",
    "\n",
    "        del x, y, lx, ly\n",
    "        torch.cuda.empty_cache()\n",
    "\n",
    "    running_loss /= len(dataloader)\n",
    "    running_perplexity /= len(dataloader)\n",
    "    running_lev_dist /= len(dataloader)\n",
    "\n",
    "    batch_bar.close()\n",
    "\n",
    "    return running_loss, running_perplexity, attention_plot\n"
   ]
  },
  {
   "cell_type": "code",
   "execution_count": 42,
   "metadata": {
    "id": "jzpCjd9R5VYV"
   },
   "outputs": [],
   "source": [
    "def validate(model, dataloader):\n",
    "\n",
    "    model.eval()\n",
    "\n",
    "    batch_bar = tqdm(total=len(dataloader), dynamic_ncols=True, position=0, leave=False, desc=\"Val\")\n",
    "\n",
    "    running_lev_dist = 0.0\n",
    "\n",
    "    for i, (x, y, lx, ly) in enumerate(dataloader):\n",
    "\n",
    "        x, y, lx, ly = x.to(DEVICE), y.to(DEVICE), lx, ly\n",
    "\n",
    "        with torch.inference_mode():\n",
    "            predictions, attentions = model(x, lx, y = None)\n",
    "\n",
    "        # Greedy Decoding\n",
    "        greedy_predictions   = torch.argmax(predictions, dim = 1) # TODO: How do you get the most likely character from each distribution in the batch?\n",
    "\n",
    "        # Calculate Levenshtein Distance\n",
    "        running_lev_dist    += calc_edit_distance(greedy_predictions, y, ly, VOCAB, print_example = False) # You can use print_example = True for one specific index i in your batches if you want\n",
    "\n",
    "        batch_bar.set_postfix(\n",
    "            dist=\"{:.04f}\".format(running_lev_dist/(i+1)))\n",
    "        batch_bar.update()\n",
    "\n",
    "        del x, y, lx, ly\n",
    "        torch.cuda.empty_cache()\n",
    "\n",
    "    batch_bar.close()\n",
    "    running_lev_dist /= len(dataloader)\n",
    "\n",
    "    return running_lev_dist #, running_loss, running_perplexity, \n"
   ]
  },
  {
   "cell_type": "markdown",
   "metadata": {
    "id": "G9uRTbbPkeL-"
   },
   "source": [
    "# Wandb"
   ]
  },
  {
   "cell_type": "code",
   "execution_count": 43,
   "metadata": {},
   "outputs": [],
   "source": [
    "config[\"project\"] = \"starter\""
   ]
  },
  {
   "cell_type": "code",
   "execution_count": 44,
   "metadata": {
    "id": "qVVo8bAab_5N"
   },
   "outputs": [],
   "source": [
    "# # Login to Wandb\n",
    "# # Initialize your Wandb Run Here\n",
    "# # Optional: Save your model architecture in a txt file, and save the file to Wandb\n",
    "# import wandb\n",
    "# wandb.login(key=\"e0408f5d7b96be3d00be30b39eda0f1e259672ed\")\n",
    "# run = wandb.init(\n",
    "#     name = config[\"project\"], ## Wandb creates random run names if you skip this field\n",
    "#     reinit = True, ### Allows reinitalizing runs when you re-run this cell\n",
    "#     # run_id = ### Insert specific run id here if you want to resume a previous run\n",
    "#     # resume = \"must\" ### You need this to resume previous runs, but comment out reinit = True when using this\n",
    "#     project = \"HW4P2\", ### Project should be created in your wandb account \n",
    "#     config = config ### Wandb Config for your run\n",
    "# )"
   ]
  },
  {
   "cell_type": "markdown",
   "metadata": {
    "id": "99rJQUdPkCUq"
   },
   "source": [
    "# Experiments"
   ]
  },
  {
   "cell_type": "code",
   "execution_count": 45,
   "metadata": {},
   "outputs": [],
   "source": [
    "from torch.optim.lr_scheduler import StepLR \n",
    "scheduler = StepLR(optimizer, step_size = 30, gamma = 0.1)#TODO"
   ]
  },
  {
   "cell_type": "code",
   "execution_count": 46,
   "metadata": {},
   "outputs": [],
   "source": [
    "config[\"model_save\"] = \"/home/gyuseok/CMU/IDL/HW4/hw4p2/weight\""
   ]
  },
  {
   "cell_type": "code",
   "execution_count": 47,
   "metadata": {
    "id": "s12S_bPMcguA"
   },
   "outputs": [
    {
     "name": "stdout",
     "output_type": "stream",
     "text": [
      "\n",
      "Epoch: 1/30\n"
     ]
    },
    {
     "data": {
      "application/vnd.jupyter.widget-view+json": {
       "model_id": "",
       "version_major": 2,
       "version_minor": 0
      },
      "text/plain": [
       "Train:   0%|                                                           | 0/298 [00:00<?, ?it/s]"
      ]
     },
     "metadata": {},
     "output_type": "display_data"
    },
    {
     "data": {
      "application/vnd.jupyter.widget-view+json": {
       "model_id": "",
       "version_major": 2,
       "version_minor": 0
      },
      "text/plain": [
       "Val:   0%|                                                              | 0/29 [00:00<?, ?it/s]"
      ]
     },
     "metadata": {},
     "output_type": "display_data"
    },
    {
     "name": "stdout",
     "output_type": "stream",
     "text": [
      "{'train_loss': 1.693844437199151, 'train_perplexity': 8.573518069798514, 'val_dist': 578.7991379310345, 'learning_Rate': 0.001}\n"
     ]
    },
    {
     "data": {
      "image/png": "[encoded data removed]",
      "text/plain": [
       "<Figure size 432x288 with 2 Axes>"
      ]
     },
     "metadata": {
      "needs_background": "light"
     },
     "output_type": "display_data"
    },
    {
     "name": "stdout",
     "output_type": "stream",
     "text": [
      "\n",
      "Epoch: 2/30\n"
     ]
    },
    {
     "data": {
      "application/vnd.jupyter.widget-view+json": {
       "model_id": "",
       "version_major": 2,
       "version_minor": 0
      },
      "text/plain": [
       "Train:   0%|                                                           | 0/298 [00:00<?, ?it/s]"
      ]
     },
     "metadata": {},
     "output_type": "display_data"
    },
    {
     "data": {
      "application/vnd.jupyter.widget-view+json": {
       "model_id": "",
       "version_major": 2,
       "version_minor": 0
      },
      "text/plain": [
       "Val:   0%|                                                              | 0/29 [00:00<?, ?it/s]"
      ]
     },
     "metadata": {},
     "output_type": "display_data"
    },
    {
     "name": "stdout",
     "output_type": "stream",
     "text": [
      "{'train_loss': 1.418329424906097, 'train_perplexity': 4.153496804653398, 'val_dist': 578.9153735632184, 'learning_Rate': 0.001}\n"
     ]
    },
    {
     "data": {
      "image/png": "[encoded data removed]",
      "text/plain": [
       "<Figure size 432x288 with 2 Axes>"
      ]
     },
     "metadata": {
      "needs_background": "light"
     },
     "output_type": "display_data"
    },
    {
     "name": "stdout",
     "output_type": "stream",
     "text": [
      "\n",
      "Epoch: 3/30\n"
     ]
    },
    {
     "data": {
      "application/vnd.jupyter.widget-view+json": {
       "model_id": "0cf9c17c1c8945678cba319799133f46",
       "version_major": 2,
       "version_minor": 0
      },
      "text/plain": [
       "Train:   0%|                                                           | 0/298 [00:00<?, ?it/s]"
      ]
     },
     "metadata": {},
     "output_type": "display_data"
    },
    {
     "ename": "KeyboardInterrupt",
     "evalue": "",
     "output_type": "error",
     "traceback": [
      "\u001b[0;31m---------------------------------------------------------------------------\u001b[0m",
      "\u001b[0;31mKeyboardInterrupt\u001b[0m                         Traceback (most recent call last)",
      "Input \u001b[0;32mIn [47]\u001b[0m, in \u001b[0;36m<cell line: 6>\u001b[0;34m()\u001b[0m\n\u001b[1;32m      8\u001b[0m \u001b[38;5;28mprint\u001b[39m(\u001b[38;5;124m\"\u001b[39m\u001b[38;5;130;01m\\n\u001b[39;00m\u001b[38;5;124mEpoch: \u001b[39m\u001b[38;5;132;01m{}\u001b[39;00m\u001b[38;5;124m/\u001b[39m\u001b[38;5;132;01m{}\u001b[39;00m\u001b[38;5;124m\"\u001b[39m\u001b[38;5;241m.\u001b[39mformat(epoch\u001b[38;5;241m+\u001b[39m\u001b[38;5;241m1\u001b[39m, config[\u001b[38;5;124m'\u001b[39m\u001b[38;5;124mepochs\u001b[39m\u001b[38;5;124m'\u001b[39m]))\n\u001b[1;32m     10\u001b[0m \u001b[38;5;66;03m# Call train and validate \u001b[39;00m\n\u001b[0;32m---> 11\u001b[0m running_loss, running_perplexity, attention_plot \u001b[38;5;241m=\u001b[39m \u001b[43mtrain\u001b[49m\u001b[43m(\u001b[49m\u001b[43mmodel\u001b[49m\u001b[43m,\u001b[49m\u001b[43m \u001b[49m\u001b[43mtrain_loader\u001b[49m\u001b[43m,\u001b[49m\u001b[43m \u001b[49m\u001b[43mcriterion\u001b[49m\u001b[43m,\u001b[49m\u001b[43m \u001b[49m\u001b[43moptimizer\u001b[49m\u001b[43m,\u001b[49m\u001b[43m \u001b[49m\u001b[43mtf_rate\u001b[49m\u001b[43m,\u001b[49m\u001b[43m \u001b[49m\u001b[43mDEVICE\u001b[49m\u001b[43m)\u001b[49m\n\u001b[1;32m     12\u001b[0m val_dist \u001b[38;5;241m=\u001b[39m validate(model, val_loader)\n\u001b[1;32m     14\u001b[0m \u001b[38;5;66;03m# Print your metrics\u001b[39;00m\n",
      "Input \u001b[0;32mIn [41]\u001b[0m, in \u001b[0;36mtrain\u001b[0;34m(model, dataloader, criterion, optimizer, teacher_forcing_rate, DEVICE)\u001b[0m\n\u001b[1;32m     19\u001b[0m greedy_predictions   \u001b[38;5;241m=\u001b[39m torch\u001b[38;5;241m.\u001b[39margmax(predictions, dim \u001b[38;5;241m=\u001b[39m \u001b[38;5;241m1\u001b[39m) \u001b[38;5;66;03m# TODO: How do you get the most likely character from each distribution in the batch?\u001b[39;00m\n\u001b[1;32m     21\u001b[0m \u001b[38;5;66;03m# Calculate Levenshtein Distance\u001b[39;00m\n\u001b[0;32m---> 22\u001b[0m running_lev_dist    \u001b[38;5;241m+\u001b[39m\u001b[38;5;241m=\u001b[39m \u001b[43mcalc_edit_distance\u001b[49m\u001b[43m(\u001b[49m\u001b[43mgreedy_predictions\u001b[49m\u001b[43m,\u001b[49m\u001b[43m \u001b[49m\u001b[43my\u001b[49m\u001b[43m,\u001b[49m\u001b[43m \u001b[49m\u001b[43mly\u001b[49m\u001b[43m,\u001b[49m\u001b[43m \u001b[49m\u001b[43mVOCAB\u001b[49m\u001b[43m,\u001b[49m\u001b[43m \u001b[49m\u001b[43mprint_example\u001b[49m\u001b[43m \u001b[49m\u001b[38;5;241;43m=\u001b[39;49m\u001b[43m \u001b[49m\u001b[38;5;28;43;01mFalse\u001b[39;49;00m\u001b[43m)\u001b[49m \u001b[38;5;66;03m# You can use print_example = True for one specific index i in your batches if you want\u001b[39;00m\n\u001b[1;32m     25\u001b[0m \u001b[38;5;66;03m# Predictions are of Shape (batch_size, timesteps, vocab_size). \u001b[39;00m\n\u001b[1;32m     26\u001b[0m \u001b[38;5;66;03m# Transcripts are of shape (batch_size, timesteps) Which means that you have batch_size amount of batches with timestep number of tokens.\u001b[39;00m\n\u001b[1;32m     27\u001b[0m \u001b[38;5;66;03m# So in total, you have batch_size*timesteps amount of characters.\u001b[39;00m\n\u001b[1;32m     28\u001b[0m \u001b[38;5;66;03m# Similarly, in predictions, you have batch_size*timesteps amount of probability distributions.\u001b[39;00m\n\u001b[1;32m     29\u001b[0m \u001b[38;5;66;03m# How do you need to modify transcipts and predictions so that you can calculate the CrossEntropyLoss? Hint: Use Reshape/View and read the docs\u001b[39;00m\n\u001b[1;32m     30\u001b[0m loss        \u001b[38;5;241m=\u001b[39m  criterion(predictions, y) \u001b[38;5;66;03m# TODO: Cross Entropy Loss\u001b[39;00m\n",
      "Input \u001b[0;32mIn [40]\u001b[0m, in \u001b[0;36mcalc_edit_distance\u001b[0;34m(predictions, y, ly, vocab, print_example)\u001b[0m\n\u001b[1;32m     19\u001b[0m \u001b[38;5;28;01mfor\u001b[39;00m batch_idx \u001b[38;5;129;01min\u001b[39;00m \u001b[38;5;28mrange\u001b[39m(batch_size): \n\u001b[1;32m     21\u001b[0m     y_sliced    \u001b[38;5;241m=\u001b[39m indices_to_chars(y[batch_idx,\u001b[38;5;241m0\u001b[39m:ly[batch_idx]], vocab)\n\u001b[0;32m---> 22\u001b[0m     pred_sliced \u001b[38;5;241m=\u001b[39m \u001b[43mindices_to_chars\u001b[49m\u001b[43m(\u001b[49m\u001b[43mpredictions\u001b[49m\u001b[43m[\u001b[49m\u001b[43mbatch_idx\u001b[49m\u001b[43m]\u001b[49m\u001b[43m,\u001b[49m\u001b[43m \u001b[49m\u001b[43mvocab\u001b[49m\u001b[43m)\u001b[49m\n\u001b[1;32m     24\u001b[0m     \u001b[38;5;66;03m# Strings - When you are using characters from the AudioDataset\u001b[39;00m\n\u001b[1;32m     25\u001b[0m     y_string    \u001b[38;5;241m=\u001b[39m \u001b[38;5;124m'\u001b[39m\u001b[38;5;124m'\u001b[39m\u001b[38;5;241m.\u001b[39mjoin(y_sliced)\n",
      "Input \u001b[0;32mIn [40]\u001b[0m, in \u001b[0;36mindices_to_chars\u001b[0;34m(indices, vocab)\u001b[0m\n\u001b[1;32m      8\u001b[0m         \u001b[38;5;28;01mbreak\u001b[39;00m\n\u001b[1;32m      9\u001b[0m     \u001b[38;5;28;01melse\u001b[39;00m:\n\u001b[0;32m---> 10\u001b[0m         tokens\u001b[38;5;241m.\u001b[39mappend(\u001b[43mvocab\u001b[49m\u001b[43m[\u001b[49m\u001b[43mi\u001b[49m\u001b[43m]\u001b[49m)\n\u001b[1;32m     11\u001b[0m \u001b[38;5;28;01mreturn\u001b[39;00m tokens\n",
      "\u001b[0;31mKeyboardInterrupt\u001b[0m: "
     ]
    }
   ],
   "source": [
    "best_lev_dist = float(\"inf\")\n",
    "tf_rate = 0.5\n",
    "\n",
    "best_running_loss = np.inf\n",
    "\n",
    "for epoch in range(0, config['epochs']):\n",
    "    \n",
    "    print(\"\\nEpoch: {}/{}\".format(epoch+1, config['epochs']))\n",
    "\n",
    "    # Call train and validate \n",
    "    running_loss, running_perplexity, attention_plot = train(model, train_loader, criterion, optimizer, tf_rate, DEVICE)\n",
    "    val_dist = validate(model, val_loader)\n",
    "    \n",
    "    # Print your metrics\n",
    "    curr_lr = float(optimizer.param_groups[0]['lr'])\n",
    "    result = {\"train_loss\":running_loss,\n",
    "              'train_perplexity': running_perplexity,\n",
    "              \"val_dist\": val_dist, \n",
    "              \"learning_Rate\": curr_lr}\n",
    "    \n",
    "    print(result)\n",
    "    \n",
    "    # Plot Attention \n",
    "    plot_attention(attention_plot)\n",
    "\n",
    "    # Log metrics to Wandb\n",
    "    #wandb.log(result) \n",
    "    \n",
    "    # Optional: Scheduler Step / Teacher Force Schedule Step\n",
    "    if running_loss < best_running_loss:\n",
    "        best_running_loss = running_loss\n",
    "        tf_rate *= 0.95\n",
    "    \n",
    "    scheduler.step()\n",
    "    \n",
    "    if val_dist <= best_lev_dist:\n",
    "        best_lev_dist = val_dist\n",
    "        # Save your model checkpoint here\n",
    "        model_path = f\"{config['model_save']}/{config['project']}.pth\"\n",
    "\n",
    "        torch.save({'model_state_dict':model.state_dict(),\n",
    "                    'optimizer_state_dict':optimizer.state_dict(),\n",
    "                    'val_dist': val_dist, \n",
    "                    'epoch': epoch}, model_path)\n",
    "#run.finish()\n"
   ]
  },
  {
   "cell_type": "markdown",
   "metadata": {
    "id": "r3iickk_kJNB"
   },
   "source": [
    "# Testing"
   ]
  },
  {
   "cell_type": "code",
   "execution_count": null,
   "metadata": {
    "id": "s7HihzA4ViiR",
    "scrolled": true
   },
   "outputs": [],
   "source": [
    "# Optional: Load your best model Checkpoint here\n",
    "dic = torch.load(model_path)\n",
    "model.load_state_dict(dic[\"model_state_dict\"])"
   ]
  },
  {
   "cell_type": "code",
   "execution_count": null,
   "metadata": {},
   "outputs": [],
   "source": [
    "def indices_to_chars(indices, vocab):\n",
    "    tokens = []\n",
    "    for i in indices: # This loops through all the indices\n",
    "        if vocab[int(i)] == SOS_TOKEN: # If SOS is encountered, dont add it to the final list\n",
    "            continue\n",
    "        elif vocab[int(i)] == EOS_TOKEN: # If EOS is encountered, stop the decoding process\n",
    "            break\n",
    "        else:\n",
    "            tokens.append(vocab[i])\n",
    "    return tokens"
   ]
  },
  {
   "cell_type": "code",
   "execution_count": null,
   "metadata": {},
   "outputs": [],
   "source": [
    "#TODO:\n",
    "# Write a function (predict) to generate predictions and submit the file to Kaggle\n",
    "def predict(test_loader, model, vocab, device):\n",
    "    model.eval()\n",
    "    preds = []\n",
    "    with torch.no_grad():\n",
    "        for x, lx in test_loader:\n",
    "            x = x.to(device)\n",
    "            predictions, _ = model(x, lx)\n",
    "            greedy_predictions   = torch.argmax(predictions, dim = 1)\n",
    "            for batch_idx in range(greedy_predictions.shape[0]): \n",
    "                pred_sliced = indices_to_chars(greedy_predictions[batch_idx], vocab)\n",
    "\n",
    "                # Strings - When you are using characters from the AudioDataset\n",
    "                pred_string = ''.join(pred_sliced)\n",
    "                preds.append(pred_string)\n",
    "            \n",
    "            \n",
    "\n",
    "    return preds\n",
    "\n",
    "torch.cuda.empty_cache()\n",
    "predictions = predict(test_loader, model,VOCAB, DEVICE)\n"
   ]
  },
  {
   "cell_type": "code",
   "execution_count": null,
   "metadata": {},
   "outputs": [],
   "source": [
    "path = \"/home/gyuseok/CMU/IDL/HW4/hw4p2/content/data/hw4p2/test-clean/transcript/random_submission.csv\"\n",
    "df = pd.read_csv(path)"
   ]
  },
  {
   "cell_type": "code",
   "execution_count": null,
   "metadata": {},
   "outputs": [],
   "source": [
    "df.label = predictions\n",
    "df.to_csv(f'{config[\"project\"]}.csv', index = False)"
   ]
  },
  {
   "cell_type": "code",
   "execution_count": null,
   "metadata": {
    "id": "mTBD49c_kKs3"
   },
   "outputs": [],
   "source": [
    "# TODO: Create a testing function similar to validation \n",
    "# TODO: Create a file with all predictions \n",
    "# TODO: Submit to Kaggle"
   ]
  }
 ],
 "metadata": {
  "accelerator": "GPU",
  "colab": {
   "collapsed_sections": [
    "Vlev_Tvq_bRz",
    "lr4xGzRU-KZz",
    "OALQCI0EDCwh",
    "X7J4sY1OW9Pr",
    "YWRjucnUdbQ1",
    "i5ioyn6ldQB9",
    "gQenneVsDLnX",
    "lCbwz0LZMWwe",
    "XoI0zEoIMX5I",
    "_rchbyjlMeB2",
    "JJCpBcEmMVcZ",
    "f6k9R7jKMRcZ"
   ],
   "provenance": []
  },
  "gpuClass": "standard",
  "kernelspec": {
   "display_name": "Python 3 (ipykernel)",
   "language": "python",
   "name": "python3"
  },
  "language_info": {
   "codemirror_mode": {
    "name": "ipython",
    "version": 3
   },
   "file_extension": ".py",
   "mimetype": "text/x-python",
   "name": "python",
   "nbconvert_exporter": "python",
   "pygments_lexer": "ipython3",
   "version": "3.9.0"
  }
 },
 "nbformat": 4,
 "nbformat_minor": 1
}
