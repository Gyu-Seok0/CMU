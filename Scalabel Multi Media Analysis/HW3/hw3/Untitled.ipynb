{
 "cells": [
  {
   "cell_type": "code",
   "execution_count": 1,
   "id": "268a203b",
   "metadata": {},
   "outputs": [],
   "source": [
    "import pandas as pd\n",
    "from sklearn.model_selection import train_test_split\n",
    "import os\n",
    "import numpy as np\n",
    "train_list_videos = \"/data/gyuseok/labels/train_val.csv\"\n",
    "\n",
    "\n",
    "train_val_df = pd.read_csv(train_list_videos)\n",
    "train_df, val_df = train_test_split(train_val_df, test_size = 0.1, random_state = 256)\n",
    "\n"
   ]
  },
  {
   "cell_type": "code",
   "execution_count": 2,
   "id": "512690fb",
   "metadata": {},
   "outputs": [],
   "source": [
    "feat_list, label_list = [],[]\n",
    "for i in range(len(train_df)):\n",
    "    video_id, label = train_df.iloc[i]\n",
    "    feat_filepath = os.path.join(\"/data/gyuseok/pf2/\", video_id + \".csv\")\n",
    "    if os.path.exists(feat_filepath):\n",
    "        feat_list.append(np.genfromtxt(feat_filepath, delimiter=\";\", dtype=\"float\"))\n",
    "    else:\n",
    "        feat_list.append(np.zeros(1024))\n",
    "    label_list.append(int(label))\n"
   ]
  },
  {
   "cell_type": "code",
   "execution_count": 3,
   "id": "441f2e35",
   "metadata": {},
   "outputs": [
    {
     "data": {
      "text/plain": [
       "(array([[-1.10227442,  0.26739958,  0.59675986, ..., -0.36024308,\n",
       "          0.20321321,  0.80227512],\n",
       "        [-1.12424457,  0.72674233,  0.59265435, ...,  0.49610862,\n",
       "         -0.49715522,  0.29680824],\n",
       "        [-0.29612532, -0.1755002 ,  0.16692391, ...,  0.52447236,\n",
       "         -0.68567502,  0.18235721],\n",
       "        ...,\n",
       "        [-0.29409313, -0.5019142 ,  0.74075598, ..., -0.26623023,\n",
       "         -1.23138821, -0.11152034],\n",
       "        [-0.05379267,  0.84707159, -0.20266861, ...,  0.62080932,\n",
       "         -0.38553092, -0.20394766],\n",
       "        [-0.3102265 ,  1.09195471,  0.93621373, ...,  0.78387487,\n",
       "         -0.11307195, -0.57148486]]),\n",
       " array([ 8, 11, 12, ...,  0,  5, 14]))"
      ]
     },
     "execution_count": 3,
     "metadata": {},
     "output_type": "execute_result"
    }
   ],
   "source": [
    "np.array(feat_list), np.array(label_list)"
   ]
  },
  {
   "cell_type": "code",
   "execution_count": 4,
   "id": "6f687a61",
   "metadata": {},
   "outputs": [
    {
     "data": {
      "text/plain": [
       "(6750, 1024)"
      ]
     },
     "execution_count": 4,
     "metadata": {},
     "output_type": "execute_result"
    }
   ],
   "source": [
    "np.array(feat_list).shape"
   ]
  },
  {
   "cell_type": "code",
   "execution_count": 5,
   "id": "f061d8e5",
   "metadata": {},
   "outputs": [
    {
     "data": {
      "text/plain": [
       "(6750,)"
      ]
     },
     "execution_count": 5,
     "metadata": {},
     "output_type": "execute_result"
    }
   ],
   "source": [
    "np.array(label_list).shape"
   ]
  },
  {
   "cell_type": "code",
   "execution_count": 6,
   "id": "308d4cc3",
   "metadata": {},
   "outputs": [],
   "source": [
    "def load_train_data(args):\n",
    "    # 1. read all features in one array.\n",
    "    fread = open(args.train_list_videos, \"r\")\n",
    "    feat_list = []\n",
    "    # labels are [0-9]\n",
    "    label_list = []\n",
    "    # load video names and events in dict\n",
    "    df_videos_label = {}\n",
    "    for line in open(args.train_list_videos).readlines()[1:]:\n",
    "        video_id, category = line.strip().split(\",\")\n",
    "        df_videos_label[video_id] = category\n",
    "\n",
    "    for line in fread.readlines()[1:]:\n",
    "        video_id = line.strip().split(\",\")[0]\n",
    "        feat_filepath = os.path.join(args.feat_dir, video_id + args.feat_appendix)\n",
    "        # for videos with no audio, ignored in training\n",
    "        if os.path.exists(feat_filepath):\n",
    "            feat_list.append(np.genfromtxt(feat_filepath, delimiter=\";\", dtype=\"float\"))\n",
    "            label_list.append(int(df_videos_label[video_id]))\n",
    "        \n",
    "    \n",
    "    return np.array(feat_list), np.array(label_list)"
   ]
  },
  {
   "cell_type": "code",
   "execution_count": 7,
   "id": "f5223738",
   "metadata": {},
   "outputs": [],
   "source": [
    "def load_test_data(args):\n",
    "    feat_list = []\n",
    "    video_ids = []\n",
    "    not_found_count = 0\n",
    "    for line in open(args.test_list_videos).readlines()[1:]:\n",
    "        video_id= line.strip().split(\",\")[0]\n",
    "        video_ids.append(video_id)\n",
    "        feat_filepath = os.path.join(args.feat_dir, video_id + args.file_ext)\n",
    "        if not os.path.exists(feat_filepath):\n",
    "            feat_list.append(np.zeros(args.feat_dim))\n",
    "            not_found_count += 1\n",
    "        else:\n",
    "            feat_list.append(np.genfromtxt(feat_filepath, delimiter=\";\", dtype=\"float\"))\n",
    "\n",
    "    if not_found_count > 0:\n",
    "        print(f'Could not find the features for {not_found_count} samples.')\n",
    "\n",
    "    return np.array(feat_list), video_ids"
   ]
  },
  {
   "cell_type": "code",
   "execution_count": 8,
   "id": "44e95d96",
   "metadata": {},
   "outputs": [
    {
     "data": {
      "text/html": [
       "<div>\n",
       "<style scoped>\n",
       "    .dataframe tbody tr th:only-of-type {\n",
       "        vertical-align: middle;\n",
       "    }\n",
       "\n",
       "    .dataframe tbody tr th {\n",
       "        vertical-align: top;\n",
       "    }\n",
       "\n",
       "    .dataframe thead th {\n",
       "        text-align: right;\n",
       "    }\n",
       "</style>\n",
       "<table border=\"1\" class=\"dataframe\">\n",
       "  <thead>\n",
       "    <tr style=\"text-align: right;\">\n",
       "      <th></th>\n",
       "      <th>Id</th>\n",
       "      <th>Category</th>\n",
       "    </tr>\n",
       "  </thead>\n",
       "  <tbody>\n",
       "    <tr>\n",
       "      <th>0</th>\n",
       "      <td>LTExODM2Mzc0ODQyOTc1ODE4NDM=</td>\n",
       "      <td>NaN</td>\n",
       "    </tr>\n",
       "    <tr>\n",
       "      <th>1</th>\n",
       "      <td>LTUwNDU3NzgyNjE2Mzk0OTU1NjQ=</td>\n",
       "      <td>NaN</td>\n",
       "    </tr>\n",
       "    <tr>\n",
       "      <th>2</th>\n",
       "      <td>ODU3OTE0MDU5NzM5NDI2MDQ2</td>\n",
       "      <td>NaN</td>\n",
       "    </tr>\n",
       "    <tr>\n",
       "      <th>3</th>\n",
       "      <td>LTQ4OTE2NDk5ODk4MTA3NDY5Mzg=</td>\n",
       "      <td>NaN</td>\n",
       "    </tr>\n",
       "    <tr>\n",
       "      <th>4</th>\n",
       "      <td>MjkzNzMwNzkxNTg5NDA1Mjk3NQ==</td>\n",
       "      <td>NaN</td>\n",
       "    </tr>\n",
       "    <tr>\n",
       "      <th>...</th>\n",
       "      <td>...</td>\n",
       "      <td>...</td>\n",
       "    </tr>\n",
       "    <tr>\n",
       "      <th>744</th>\n",
       "      <td>Nzk0NzA0MjYxMTg3NDkxNjQ4OQ==</td>\n",
       "      <td>NaN</td>\n",
       "    </tr>\n",
       "    <tr>\n",
       "      <th>745</th>\n",
       "      <td>LTMzMjA0NjkyNzYwMDQ0NDUyNzY=</td>\n",
       "      <td>NaN</td>\n",
       "    </tr>\n",
       "    <tr>\n",
       "      <th>746</th>\n",
       "      <td>LTQxNDgxNjU0MzY3OTQzNzIzMTc=</td>\n",
       "      <td>NaN</td>\n",
       "    </tr>\n",
       "    <tr>\n",
       "      <th>747</th>\n",
       "      <td>NjQyMjk5MDM5OTgwNzY2NDU1MQ==</td>\n",
       "      <td>NaN</td>\n",
       "    </tr>\n",
       "    <tr>\n",
       "      <th>748</th>\n",
       "      <td>LTk2NzY1NzIyNTY3MzIxMDkyOA==</td>\n",
       "      <td>NaN</td>\n",
       "    </tr>\n",
       "  </tbody>\n",
       "</table>\n",
       "<p>749 rows × 2 columns</p>\n",
       "</div>"
      ],
      "text/plain": [
       "                               Id  Category\n",
       "0    LTExODM2Mzc0ODQyOTc1ODE4NDM=       NaN\n",
       "1    LTUwNDU3NzgyNjE2Mzk0OTU1NjQ=       NaN\n",
       "2        ODU3OTE0MDU5NzM5NDI2MDQ2       NaN\n",
       "3    LTQ4OTE2NDk5ODk4MTA3NDY5Mzg=       NaN\n",
       "4    MjkzNzMwNzkxNTg5NDA1Mjk3NQ==       NaN\n",
       "..                            ...       ...\n",
       "744  Nzk0NzA0MjYxMTg3NDkxNjQ4OQ==       NaN\n",
       "745  LTMzMjA0NjkyNzYwMDQ0NDUyNzY=       NaN\n",
       "746  LTQxNDgxNjU0MzY3OTQzNzIzMTc=       NaN\n",
       "747  NjQyMjk5MDM5OTgwNzY2NDU1MQ==       NaN\n",
       "748  LTk2NzY1NzIyNTY3MzIxMDkyOA==       NaN\n",
       "\n",
       "[749 rows x 2 columns]"
      ]
     },
     "execution_count": 8,
     "metadata": {},
     "output_type": "execute_result"
    }
   ],
   "source": [
    "# test\n",
    "test_list_videos = \"/data/gyuseok/labels/test_for_students.csv\"\n",
    "df = pd.read_csv(test_list_videos)\n",
    "df"
   ]
  },
  {
   "cell_type": "code",
   "execution_count": 9,
   "id": "9ce8f6f6",
   "metadata": {},
   "outputs": [],
   "source": [
    "feat_list = []\n",
    "video_ids = []\n",
    "not_found_count = 0\n",
    "for i in range(len(df)):\n",
    "    video_id = df.iloc[i,0]\n",
    "    video_ids.append(video_id)\n",
    "    \n",
    "    feat_filepath = os.path.join(\"/data/gyuseok/pf2/\", video_id + \".csv\")\n",
    "    if not os.path.exists(feat_filepath):\n",
    "        feat_list.append(np.zeros(1024))\n",
    "        not_found_count += 1\n",
    "    else:\n",
    "        feat_list.append(np.genfromtxt(feat_filepath, delimiter=\";\", dtype=\"float\"))\n",
    "\n",
    "if not_found_count > 0:\n",
    "    print(f'Could not find the features for {not_found_count} samples.')"
   ]
  },
  {
   "cell_type": "code",
   "execution_count": 10,
   "id": "79105b5c",
   "metadata": {},
   "outputs": [
    {
     "data": {
      "text/plain": [
       "749"
      ]
     },
     "execution_count": 10,
     "metadata": {},
     "output_type": "execute_result"
    }
   ],
   "source": [
    "len(feat_list)"
   ]
  },
  {
   "cell_type": "code",
   "execution_count": 11,
   "id": "10041b01",
   "metadata": {},
   "outputs": [
    {
     "data": {
      "text/plain": [
       "749"
      ]
     },
     "execution_count": 11,
     "metadata": {},
     "output_type": "execute_result"
    }
   ],
   "source": [
    "len(video_ids)"
   ]
  },
  {
   "cell_type": "code",
   "execution_count": 12,
   "id": "5b8086f6",
   "metadata": {},
   "outputs": [],
   "source": [
    "from CustomSet import *\n",
    "D_feat_dir = \"/home/gyuseok/CMU/11775-hw2-handout/data/cnn3d\"\n",
    "dtrain_set = FeatureDataset(df, D_feat_dir)"
   ]
  },
  {
   "cell_type": "code",
   "execution_count": 13,
   "id": "15c64305",
   "metadata": {},
   "outputs": [
    {
     "data": {
      "text/plain": [
       "(tensor([0.1166, 1.9648, 0.3180, 0.8271, 0.9208, 0.2779, 2.0496, 0.3539, 0.7603,\n",
       "         0.6000, 1.9596, 0.5232, 0.6102, 0.6790, 0.9761, 1.4999, 0.0892, 1.1459,\n",
       "         2.3625, 0.6248, 0.4561, 0.2311, 0.4683, 0.3226, 0.5538, 1.3529, 1.3492,\n",
       "         1.3437, 0.9081, 0.5215, 0.9014, 0.7001, 1.6128, 0.6208, 1.2169, 0.6405,\n",
       "         0.9080, 1.7304, 0.5166, 0.4404, 0.7629, 1.0758, 0.8774, 0.6333, 0.5127,\n",
       "         0.5417, 0.9477, 0.9063, 0.1528, 0.6194, 0.9955, 0.4942, 2.7070, 0.8988,\n",
       "         0.9194, 0.6058, 0.5725, 0.6293, 1.0067, 0.8443, 0.3828, 0.7803, 0.8863,\n",
       "         0.6199, 1.0789, 0.3969, 0.1793, 2.1484, 0.1653, 0.5920, 0.4712, 1.3614,\n",
       "         1.6496, 2.0814, 0.7016, 2.0856, 1.7234, 0.4588, 0.3925, 0.5586, 1.1390,\n",
       "         0.4954, 1.3265, 1.0008, 0.7692, 1.9938, 2.0773, 0.0851, 0.7397, 0.9467,\n",
       "         1.3763, 0.8130, 1.6319, 0.6624, 0.9663, 0.9586, 0.9157, 0.4667, 0.9387,\n",
       "         1.6578, 0.5540, 1.0880, 1.1384, 0.7308, 1.2564, 1.1406, 0.2934, 0.1940,\n",
       "         0.2130, 0.5491, 0.4510, 0.3164, 0.1812, 0.5502, 0.5177, 0.1382, 0.5049,\n",
       "         2.0829, 1.3320, 0.6118, 0.3761, 1.7721, 0.9975, 0.1929, 0.0233, 0.4557,\n",
       "         0.8786, 0.3024, 0.4989, 0.6767, 0.3114, 0.0880, 0.8903, 0.4502, 1.0608,\n",
       "         2.5351, 0.6278, 0.5136, 0.1953, 2.5954, 0.4263, 1.1022, 0.6261, 1.7291,\n",
       "         0.5122, 0.4682, 0.2555, 0.8898, 0.5158, 2.2204, 0.8219, 0.6552, 0.7234,\n",
       "         0.4931, 0.4041, 0.1174, 1.4679, 2.3623, 1.1809, 1.0564, 1.0882, 0.5051,\n",
       "         0.4272, 1.5569, 0.9637, 0.4918, 0.4910, 0.5906, 1.7183, 1.0057, 3.2852,\n",
       "         0.1993, 2.2603, 0.4720, 0.7373, 0.4406, 0.7038, 0.4189, 1.6787, 1.0774,\n",
       "         0.4822, 1.2059, 0.6607, 0.3872, 2.1538, 0.3515, 1.9960, 1.1385, 1.4005,\n",
       "         0.5821, 2.2934, 0.8547, 0.7999, 0.3097, 1.4589, 0.4431, 1.2655, 0.9548,\n",
       "         1.9274, 0.8748, 0.3529, 0.8864, 0.8214, 0.2636, 0.2179, 1.3837, 0.5017,\n",
       "         2.9288, 0.2245, 0.2716, 1.2805, 0.5566, 0.4634, 0.2403, 0.8967, 0.6582,\n",
       "         0.8615, 1.0120, 0.9398, 1.2618, 1.9969, 0.3820, 1.9384, 1.7198, 0.1959,\n",
       "         0.3588, 0.5380, 0.7399, 0.5037, 0.7698, 1.6939, 0.4817, 1.7673, 1.3923,\n",
       "         2.1517, 1.2246, 0.9298, 0.2969, 0.8256, 0.8386, 0.6243, 0.1589, 0.3403,\n",
       "         1.2761, 0.8258, 0.3828, 0.8609, 0.0283, 0.6646, 0.7581, 0.5344, 0.6410,\n",
       "         0.2949, 1.0026, 1.7331, 1.4008, 1.1963, 0.5451, 0.9765, 0.8222, 0.5856,\n",
       "         0.9737, 0.2041, 1.0725, 0.5230, 1.1284, 0.2662, 0.4207, 1.1140, 0.6420,\n",
       "         0.9203, 1.4161, 1.9719, 0.4566, 0.5875, 1.1445, 1.7167, 0.1959, 1.1319,\n",
       "         0.0507, 0.4683, 0.4222, 0.4031, 0.6814, 0.8334, 0.7434, 0.6618, 0.2112,\n",
       "         0.6890, 0.3439, 1.0687, 0.2674, 0.7256, 0.4531, 0.1970, 1.1648, 0.9523,\n",
       "         0.5600, 1.2830, 0.0417, 0.5669, 0.7776, 1.4679, 0.2591, 0.2902, 0.8310,\n",
       "         1.5813, 0.7193, 1.1210, 0.9008, 0.7223, 0.4268, 1.3627, 0.5411, 0.8567,\n",
       "         2.1279, 0.4045, 0.9827, 0.2318, 1.0204, 1.3550, 1.0905, 0.6529, 0.7416,\n",
       "         0.3926, 0.6658, 0.9024, 0.3689, 0.0497, 0.1981, 0.1838, 0.9338, 0.1508,\n",
       "         0.4089, 1.1654, 0.3951, 0.2610, 1.4271, 1.7576, 0.8979, 1.4041, 3.0325,\n",
       "         0.3410, 2.0100, 1.1626, 0.7016, 0.5828, 0.2933, 0.6639, 0.7078, 0.8101,\n",
       "         0.3067, 0.7383, 0.3662, 0.7997, 0.4904, 0.4008, 0.8505, 0.6377, 0.9512,\n",
       "         0.7136, 0.8619, 1.2080, 0.7642, 2.8888, 1.4953, 0.8817, 0.3626, 0.0744,\n",
       "         1.1202, 0.2466, 0.2827, 0.4256, 0.2049, 0.5474, 0.1013, 0.5812, 1.1760,\n",
       "         0.6781, 1.1505, 0.5322, 1.7271, 0.6230, 1.2593, 0.3544, 0.6777, 0.4539,\n",
       "         0.2703, 0.3496, 0.4911, 0.6189, 0.4109, 0.4914, 0.4833, 2.8997, 1.0628,\n",
       "         1.0507, 0.3006, 1.0632, 1.4757, 0.7670, 0.5628, 0.5871, 1.3413, 0.7936,\n",
       "         0.1530, 0.4139, 0.2239, 0.5382, 1.6193, 1.9684, 0.2231, 0.7055, 2.8656,\n",
       "         0.1018, 1.9289, 0.9967, 1.1218, 2.0470, 0.1758, 1.0683, 0.9396, 0.0253,\n",
       "         0.3516, 0.6073, 0.2676, 1.3891, 0.0715, 0.9109, 0.2284, 1.4747, 0.6377,\n",
       "         0.5017, 0.1400, 0.8243, 0.9033, 0.3980, 0.3125, 0.4962, 0.6686, 0.7204,\n",
       "         0.2573, 0.7980, 0.8919, 0.3309, 0.8078, 0.0668, 0.6148, 0.7457, 1.3508,\n",
       "         1.1913, 0.0982, 0.6150, 0.6645, 0.6727, 0.9403, 1.9506, 0.8472, 2.9050,\n",
       "         0.0873, 1.6024, 0.3844, 0.2401, 0.6193, 0.4488, 0.2400, 0.6432, 0.6496,\n",
       "         0.6029, 3.3786, 1.2293, 0.7572, 1.5315, 0.4533, 0.8653, 0.5626, 0.4285,\n",
       "         1.0930, 0.1369, 0.4439, 1.3648, 1.1298, 0.8301, 0.0492, 0.3521, 0.2716,\n",
       "         1.3207, 0.9854, 0.7247, 0.4990, 3.4207, 1.8000, 1.3333, 0.5739, 2.4117,\n",
       "         4.0345, 2.0702, 0.6567, 1.4339, 0.4382, 0.6188, 0.9013, 0.7016, 0.4719,\n",
       "         1.6121, 0.9593, 1.0749, 0.7014, 0.5082, 0.0647, 0.2715, 2.1769]),\n",
       " nan)"
      ]
     },
     "execution_count": 13,
     "metadata": {},
     "output_type": "execute_result"
    }
   ],
   "source": [
    "dtrain_set.__getitem__(0)"
   ]
  },
  {
   "cell_type": "code",
   "execution_count": 14,
   "id": "8b01d249",
   "metadata": {},
   "outputs": [],
   "source": [
    "import os.path as osp\n",
    "import pickle\n",
    "\n",
    "class CustomDataset(Dataset):\n",
    "\n",
    "    def __init__(self, df, feature_dir):\n",
    "        self.df = df\n",
    "        self.feature_dir = feature_dir\n",
    "\n",
    "    def __len__(self):\n",
    "        return len(self.df)\n",
    "\n",
    "    def aggregate_frame_features(self, frame_features: np.ndarray) -> np.ndarray:\n",
    "        ans = np.mean(frame_features, axis = 0)\n",
    "        if ans.ndim == 1:\n",
    "            return ans\n",
    "        else:\n",
    "            return ans.squeeze()\n",
    "        \n",
    "    def load_features(self, feature_path):\n",
    "        features = []\n",
    "        with open(feature_path, 'rb') as f:\n",
    "            while True:\n",
    "                try:\n",
    "                    _, frame_feature = pickle.load(f)\n",
    "                    features.append(frame_feature)\n",
    "                except EOFError:\n",
    "                    break\n",
    "        return features\n",
    "\n",
    "    def __getitem__(self, idx):\n",
    "        item = self.df.iloc[idx]\n",
    "        vid = item['Id']\n",
    "        label = item.get('Category', None)\n",
    "        feature_path = osp.join(self.feature_dir, f'{vid}.pkl')\n",
    "        frame_features = np.stack(self.load_features(feature_path))\n",
    "        feature = self.aggregate_frame_features(frame_features)\n",
    "        feature = torch.as_tensor(feature, dtype=torch.float)\n",
    "        return feature, label"
   ]
  },
  {
   "cell_type": "code",
   "execution_count": 15,
   "id": "544c15bf",
   "metadata": {},
   "outputs": [],
   "source": [
    "feat_dir = \"/home/gyuseok/CMU/11775-hw2-handout/data/cnn3d\"\n",
    "val_dataset = CustomDataset(val_df, feat_dir)"
   ]
  },
  {
   "cell_type": "code",
   "execution_count": 16,
   "id": "c48452b7",
   "metadata": {},
   "outputs": [],
   "source": [
    "train_dataset = CustomDataset(train_df, feat_dir)"
   ]
  },
  {
   "cell_type": "code",
   "execution_count": 17,
   "id": "d28a1d63",
   "metadata": {},
   "outputs": [
    {
     "data": {
      "text/plain": [
       "torch.Size([512])"
      ]
     },
     "execution_count": 17,
     "metadata": {},
     "output_type": "execute_result"
    }
   ],
   "source": [
    "train_dataset.__getitem__(0)[0].shape"
   ]
  },
  {
   "cell_type": "code",
   "execution_count": 18,
   "id": "5041f88d",
   "metadata": {},
   "outputs": [],
   "source": [
    "X2, X = 0,0\n",
    "for idx in range(len(train_dataset)):\n",
    "    target = train_dataset[idx][0]\n",
    "    \n",
    "    X2 += target**2\n",
    "    X += target\n",
    "\n",
    "    EX = X / len(train_dataset)\n",
    "    VarX = X2/len(train_dataset) - EX**2\n"
   ]
  },
  {
   "cell_type": "code",
   "execution_count": 19,
   "id": "9eeb8c2f",
   "metadata": {},
   "outputs": [],
   "source": [
    "EX = X / len(train_dataset)"
   ]
  },
  {
   "cell_type": "code",
   "execution_count": 20,
   "id": "45c5d37f",
   "metadata": {},
   "outputs": [
    {
     "data": {
      "text/plain": [
       "tensor([0.2432, 0.1983, 0.3462, 0.3194, 0.3875, 0.3099, 0.4016, 0.1779, 0.4724,\n",
       "        0.4910, 0.7908, 0.8887, 0.3600, 0.1911, 0.1705, 0.4684, 0.3028, 0.2925,\n",
       "        0.3841, 0.2626, 0.3253, 0.2138, 0.3510, 0.1798, 0.3007, 0.3919, 0.3356,\n",
       "        0.2557, 0.2599, 0.3318, 0.3711, 0.2393, 0.3530, 0.1969, 0.3113, 0.2960,\n",
       "        0.3921, 0.6637, 0.5776, 0.1573, 0.3266, 0.5152, 0.5186, 0.4706, 0.3002,\n",
       "        0.2957, 0.1957, 0.4191, 0.4254, 0.1917, 0.2182, 0.8444, 0.5059, 0.3345,\n",
       "        0.2826, 0.1947, 0.2320, 0.7885, 0.2974, 0.4828, 0.2418, 0.4202, 0.3435,\n",
       "        0.5882, 0.4034, 0.4268, 0.2594, 0.6309, 0.3150, 0.4568, 0.3780, 0.2856,\n",
       "        0.2583, 0.6106, 0.3557, 0.4340, 0.7957, 0.4328, 0.1635, 0.3629, 0.3702,\n",
       "        0.3376, 0.5342, 0.2725, 0.2277, 0.3452, 0.2742, 0.9035, 0.1957, 0.3610,\n",
       "        0.3747, 0.3911, 0.3278, 0.2687, 0.2763, 0.5253, 0.3235, 0.2988, 0.4093,\n",
       "        0.4619, 0.5414, 0.5521, 0.4002, 0.2382, 0.5199, 0.2572, 0.2356, 0.2041,\n",
       "        0.4072, 0.5915, 0.4519, 0.5040, 0.2536, 0.2684, 0.4495, 0.3842, 0.2075,\n",
       "        0.2266, 0.7189, 0.3251, 0.5178, 0.3478, 0.3979, 0.2302, 0.2514, 0.4277,\n",
       "        0.4651, 0.2328, 0.5244, 0.6331, 0.5222, 0.3287, 0.3018, 0.4955, 0.3953,\n",
       "        0.4381, 0.2252, 0.2825, 0.2398, 0.4567, 0.4318, 0.2139, 0.3811, 0.4057,\n",
       "        0.4927, 1.0536, 0.4106, 0.3598, 0.4414, 0.4138, 0.2954, 0.2271, 0.3000,\n",
       "        0.2301, 0.2179, 0.2621, 0.6517, 0.5052, 0.3686, 0.3384, 0.3404, 0.6082,\n",
       "        0.3354, 0.4476, 0.2411, 0.3780, 0.2130, 0.2368, 0.2322, 0.3503, 0.8107,\n",
       "        0.4584, 0.3455, 0.2748, 0.3197, 0.1669, 0.2799, 0.2489, 0.3955, 0.1282,\n",
       "        0.2205, 0.3394, 0.3350, 0.4832, 0.5508, 0.1532, 0.2037, 0.2194, 0.2595,\n",
       "        0.2695, 0.3216, 0.3379, 0.3193, 0.3341, 0.4504, 0.2072, 0.6898, 0.4031,\n",
       "        0.3734, 0.3514, 0.2237, 0.5682, 0.4602, 0.1950, 0.3728, 0.2607, 0.2522,\n",
       "        0.5018, 0.7146, 0.2938, 0.2724, 0.3834, 0.4618, 0.4939, 0.2030, 0.6083,\n",
       "        0.3920, 0.4695, 0.3609, 0.4183, 0.5480, 0.1576, 0.3733, 0.3838, 0.3279,\n",
       "        0.4787, 0.1862, 0.5191, 0.4229, 0.3738, 0.2449, 0.3059, 0.2369, 0.4345,\n",
       "        0.3627, 0.3186, 0.4214, 0.4226, 0.3965, 0.1999, 0.2562, 0.4524, 0.6856,\n",
       "        0.3851, 0.3801, 0.6630, 0.2768, 0.3541, 0.2795, 0.2679, 0.4875, 0.3138,\n",
       "        0.2388, 0.4534, 0.2074, 0.1902, 0.6198, 0.3093, 0.4290, 0.3231, 0.2361,\n",
       "        0.3203, 0.4335, 0.2373, 0.4066, 0.4147, 0.2700, 0.6154, 0.3476, 0.3504,\n",
       "        0.2609, 0.1843, 0.3943, 0.3223, 0.2187, 0.3981, 0.2444, 0.2397, 0.4082,\n",
       "        0.3298, 0.3388, 0.2595, 0.3426, 0.3035, 0.2675, 0.2155, 0.3695, 0.1864,\n",
       "        0.5365, 0.2100, 0.3171, 0.6546, 0.4032, 0.3285, 0.6040, 0.5765, 0.2828,\n",
       "        0.4179, 0.2553, 0.3843, 0.2816, 0.7393, 0.4405, 0.2895, 0.4064, 0.2267,\n",
       "        0.2773, 0.6863, 0.4321, 0.3740, 0.2479, 0.4249, 0.5335, 0.3975, 0.5091,\n",
       "        0.3313, 0.3991, 0.6977, 0.6735, 0.3664, 0.3134, 0.3059, 0.5918, 0.2663,\n",
       "        0.3553, 0.4044, 0.5346, 0.5505, 0.4074, 0.1704, 0.4453, 0.5467, 0.4714,\n",
       "        0.3182, 0.2653, 0.5424, 0.6710, 0.2690, 0.2031, 0.3827, 0.2693, 0.7857,\n",
       "        0.3441, 0.7659, 0.2527, 0.4654, 0.3876, 0.3570, 0.3584, 0.2470, 0.2950,\n",
       "        0.2796, 0.1783, 0.3759, 0.6256, 0.3565, 0.5706, 0.3675, 0.2323, 0.5693,\n",
       "        0.2306, 0.2494, 0.4207, 0.2616, 0.3135, 0.3621, 0.1579, 0.2908, 0.3126,\n",
       "        0.2599, 0.4563, 0.3397, 0.4371, 0.2988, 0.3469, 0.3308, 0.3009, 0.2722,\n",
       "        0.2358, 0.1693, 0.3242, 0.3435, 0.2969, 0.1990, 0.6342, 0.6098, 0.3955,\n",
       "        0.3588, 0.3806, 0.3194, 0.3237, 0.4332, 0.3551, 0.1958, 0.4611, 0.4858,\n",
       "        0.2966, 0.2331, 0.2814, 0.7081, 0.2558, 0.4611, 0.3566, 0.3208, 0.2070,\n",
       "        0.3649, 0.3184, 0.3587, 0.2925, 0.2879, 0.2288, 0.6793, 0.4355, 0.4759,\n",
       "        0.3093, 0.7502, 0.2296, 0.4075, 0.3001, 0.2684, 0.2894, 0.2368, 0.4925,\n",
       "        0.4029, 0.5146, 0.3633, 0.3030, 0.6200, 0.2229, 0.5213, 0.4632, 0.2099,\n",
       "        0.3002, 0.2396, 1.1613, 0.3756, 0.2550, 0.3214, 0.3365, 0.3920, 0.2359,\n",
       "        0.2265, 0.4480, 0.3030, 0.4946, 0.3183, 0.2168, 0.2198, 0.2585, 0.3876,\n",
       "        0.3796, 0.2909, 0.2287, 0.2051, 0.2560, 0.3677, 0.3203, 0.3065, 0.4280,\n",
       "        0.5226, 0.2136, 0.3999, 0.4288, 0.2459, 0.2343, 0.2259, 0.4528, 0.2109,\n",
       "        0.1781, 0.6432, 0.3443, 0.2296, 0.2556, 0.4511, 0.2787, 0.3019, 0.4049,\n",
       "        0.5281, 0.4241, 0.3663, 0.2896, 0.3601, 0.2975, 0.2692, 0.1602, 0.5768,\n",
       "        0.3382, 0.2814, 0.2357, 0.3654, 0.4977, 0.6603, 0.3754, 0.3234, 0.4875,\n",
       "        0.5359, 0.4717, 0.1681, 0.1848, 0.3103, 0.1808, 0.4010, 0.4510, 0.5859,\n",
       "        0.3826, 0.2538, 0.2399, 0.2940, 0.3532, 0.4726, 0.2175, 0.6257])"
      ]
     },
     "execution_count": 20,
     "metadata": {},
     "output_type": "execute_result"
    }
   ],
   "source": [
    "VarX = X2/len(train_dataset) - EX**2\n",
    "\n",
    "VarX"
   ]
  },
  {
   "cell_type": "code",
   "execution_count": 21,
   "id": "a5d4c3ac",
   "metadata": {},
   "outputs": [
    {
     "data": {
      "text/plain": [
       "torch.Size([512])"
      ]
     },
     "execution_count": 21,
     "metadata": {},
     "output_type": "execute_result"
    }
   ],
   "source": [
    "EX.shape"
   ]
  },
  {
   "cell_type": "code",
   "execution_count": 22,
   "id": "9892927b",
   "metadata": {},
   "outputs": [
    {
     "data": {
      "text/plain": [
       "tensor([ 1.6953e+00,  4.3419e-01,  1.2278e+00, -1.0744e+00,  1.4734e+00,\n",
       "         1.0564e+00,  1.3286e+00,  5.9258e-01, -3.8540e-01, -5.7681e-01,\n",
       "        -5.7945e-01,  7.0463e-01, -3.5866e-01, -2.1545e+00, -2.3029e+00,\n",
       "        -1.3500e-01, -1.7866e+00,  2.3666e+00,  9.2221e-01, -1.3903e+00,\n",
       "        -1.2324e+00, -6.0375e-01, -8.7069e-01, -1.6962e+00, -1.0063e+00,\n",
       "         2.1785e+00,  4.9735e-01,  2.7075e+00,  5.4027e-01, -6.2745e-01,\n",
       "         1.5071e+00,  1.9441e-01, -1.0122e+00,  1.2263e+00,  4.5862e-01,\n",
       "        -6.3940e-01, -1.2133e+00,  5.0354e-01, -1.5248e+00,  5.5420e+00,\n",
       "        -2.4111e-01, -5.8912e-02, -2.8916e-01, -1.3658e+00, -8.1303e-01,\n",
       "        -3.0416e-01, -1.4508e+00, -1.3022e+00,  3.4832e-01,  1.3436e+00,\n",
       "        -1.3038e+00, -4.5703e-01,  8.0051e-01, -1.0651e+00,  2.3194e+00,\n",
       "        -2.0459e-01, -7.1495e-01, -6.5683e-01, -1.9610e+00,  2.4918e+00,\n",
       "        -1.5811e+00,  1.1189e-01, -6.8278e-01, -5.5700e-01, -1.3021e+00,\n",
       "         6.1971e-01,  2.5323e+00,  1.2120e+00, -8.1728e-01, -8.4171e-01,\n",
       "         1.1011e-01, -3.3915e-01, -1.0291e+00,  2.9486e+00, -9.7714e-01,\n",
       "         1.2055e+00,  3.7896e+00, -6.0166e-01, -2.4399e+00,  6.1951e-01,\n",
       "         5.7392e-01, -2.3663e-01, -1.3094e+00,  4.2995e-01, -1.9656e+00,\n",
       "         4.8469e-01,  5.0809e+00, -1.3704e+00, -6.5688e-01,  1.1712e+00,\n",
       "         2.4808e-01,  3.3792e+00, -1.2500e-01,  1.0890e+00,  2.8135e-01,\n",
       "        -9.7641e-01, -5.0727e-01, -1.7691e+00,  8.7280e-01,  8.9417e-01,\n",
       "        -7.7955e-01,  2.5092e-01,  4.5265e-01, -7.4413e-01,  1.9260e+00,\n",
       "        -1.3038e+00, -3.2872e-01,  2.9768e+00, -4.3848e-01,  1.6914e+00,\n",
       "        -5.9769e-01, -1.4333e+00, -1.1072e+00, -1.1306e+00, -6.1601e-01,\n",
       "         3.0775e+00, -1.8027e+00, -1.7645e-01, -1.0208e+00,  1.5242e+00,\n",
       "        -1.6466e-01, -3.8281e-01,  1.5803e+00, -9.5756e-01, -3.6054e-01,\n",
       "        -2.8986e-01,  6.6600e-01,  5.9126e-01,  2.5707e-01,  2.6360e+00,\n",
       "         2.2504e+00, -1.3058e+00,  1.8923e+00,  1.3746e-01,  3.4903e-01,\n",
       "         1.4609e-01, -4.5654e-01,  7.3075e-01,  1.1323e+00,  2.5324e-01,\n",
       "         1.5759e+00, -1.4963e-01,  3.7955e-01, -4.0170e-01,  1.0805e+00,\n",
       "        -8.3864e-01,  2.3901e-01,  7.4642e-01, -8.7266e-01,  1.9945e+00,\n",
       "        -6.2377e-01, -2.7851e-01,  6.3503e+00,  3.2379e+00,  8.7165e-01,\n",
       "        -1.2651e+00,  2.0157e+00, -2.7453e-01,  3.0535e-01, -1.2478e+00,\n",
       "         1.3133e+00, -1.4992e+00, -1.4557e+00, -7.0691e-01, -1.1168e+00,\n",
       "        -1.8697e+00,  3.4326e+00, -9.5971e-01, -1.5834e+00, -9.5862e-01,\n",
       "        -1.6572e-02,  3.2632e+00, -1.1053e+00, -1.0299e+00, -1.6857e+00,\n",
       "         8.3568e-01,  3.0636e+00, -2.1440e+00, -1.3897e+00,  6.4863e-01,\n",
       "         8.6560e-02, -1.4649e+00, -1.9174e-01,  1.5578e+00, -6.6130e-02,\n",
       "         2.5754e+00,  2.6188e+00,  6.1353e-01, -1.3736e+00, -1.5030e+00,\n",
       "        -6.2165e-01,  5.8609e-01, -1.1920e+00, -5.5571e-01,  8.8224e-01,\n",
       "         1.4998e+00, -2.3243e-01, -1.0255e+00, -8.4964e-01, -1.1760e+00,\n",
       "         2.7081e+00,  9.8862e-01, -9.7445e-01, -1.6880e+00, -9.4754e-01,\n",
       "        -1.2166e+00, -7.8528e-01,  2.1831e+00, -8.6791e-01,  6.9923e-01,\n",
       "        -7.0181e-01, -1.2275e+00,  3.2784e-01, -1.0560e+00, -2.1752e+00,\n",
       "        -8.3090e-01, -7.8637e-01, -8.2036e-01, -2.4038e-03, -4.1089e-01,\n",
       "        -5.8186e-01, -2.0590e+00,  4.9373e+00, -2.1933e+00, -6.0268e-01,\n",
       "        -1.4559e+00, -6.3726e-01,  3.8002e-01, -4.3019e-01, -9.0096e-01,\n",
       "        -8.5982e-01, -1.2801e+00,  1.4379e+00, -2.2710e-01,  2.8791e-01,\n",
       "        -1.5334e+00,  2.9075e-01, -4.3078e-01, -1.5626e+00,  1.8616e+00,\n",
       "         3.0347e-02, -1.5987e+00, -4.7062e-03, -9.3490e-01,  3.8031e-01,\n",
       "        -3.2678e-01, -6.8634e-01,  3.6083e+00, -1.1187e+00, -1.7859e+00,\n",
       "        -3.1118e-01, -1.1762e+00,  2.5000e+00, -8.6462e-01, -2.5186e-01,\n",
       "        -1.0733e-01, -8.9831e-01,  4.4308e+00, -6.4257e-01,  4.2752e+00,\n",
       "        -1.1030e+00, -1.3954e+00,  9.2060e-01, -2.1502e+00, -8.0112e-01,\n",
       "         2.8963e+00, -3.2093e-01,  2.7667e+00, -2.8530e-01,  9.2401e-01,\n",
       "         6.9833e-01, -3.0361e+00,  2.1500e+00, -1.1393e-01, -2.1725e+00,\n",
       "        -2.6615e-01, -1.9883e+00,  7.5989e-02, -3.6693e-01, -1.8690e+00,\n",
       "         1.8537e-01,  1.5866e+00,  4.4726e-01,  1.3502e-01, -3.4436e-01,\n",
       "         3.0567e+00, -4.6781e-01, -1.7458e+00,  1.5658e-01, -1.3483e+00,\n",
       "        -1.1091e+00,  5.4898e-01, -8.2141e-01, -9.8086e-01, -7.8716e-02,\n",
       "        -5.6662e-01,  2.4549e+00, -5.9778e-01, -2.0149e+00, -5.7384e-01,\n",
       "        -2.1492e+00, -7.7533e-02, -3.0575e-02,  5.0919e-01,  7.7942e-01,\n",
       "         1.9111e+00,  2.3537e+00, -1.6099e+00,  6.9433e-01,  2.5655e+00,\n",
       "        -8.1395e-01, -9.7662e-01,  6.3044e-01,  1.1652e+00,  4.7314e-01,\n",
       "         1.8245e-01, -1.0558e-01,  1.5137e+00,  9.2881e-01,  5.6662e-01,\n",
       "         1.5172e+00, -1.1416e+00, -6.2828e-01,  3.3702e-01, -1.3972e+00,\n",
       "         3.1315e-01,  1.4085e+00, -1.1728e+00, -3.2139e-01, -1.2916e+00,\n",
       "         1.8745e+00, -1.3309e+00, -1.0904e+00,  1.8443e-01, -1.1496e+00,\n",
       "        -6.8655e-01,  8.3142e-01, -1.3486e+00,  2.4041e+00,  2.5125e+00,\n",
       "         1.0359e+00, -3.6466e-01, -1.5954e-01, -4.3667e-01, -7.4809e-01,\n",
       "        -1.0445e+00, -9.0405e-01,  3.0933e-01,  2.9202e+00, -8.3486e-01,\n",
       "        -3.5860e-01, -1.5295e+00,  1.9856e+00, -8.2872e-01, -9.1151e-01,\n",
       "         6.7544e-01, -1.0050e+00,  5.7088e+00, -1.1844e+00, -1.2688e+00,\n",
       "        -2.3148e+00, -8.1568e-01, -1.0159e+00, -1.3307e+00, -1.9888e+00,\n",
       "         3.3905e-01, -2.6295e+00, -1.3271e+00, -2.1294e+00, -1.5308e+00,\n",
       "        -1.2087e+00, -1.1562e+00,  1.3186e+00,  1.7379e-01, -2.4082e-01,\n",
       "        -7.7720e-01, -1.1694e+00, -9.6121e-01, -1.0640e+00,  4.2714e+00,\n",
       "        -5.4365e-01, -4.8948e-02, -8.3824e-01, -2.2470e+00,  2.5096e+00,\n",
       "         5.0040e-01,  1.5273e+00,  1.0485e+00, -1.9563e+00, -5.1262e-01,\n",
       "        -8.4912e-01, -7.4886e-01, -3.4343e-01, -2.6833e-01,  3.2162e+00,\n",
       "        -5.0185e-01,  2.0847e-01,  1.8043e+00, -1.1209e+00,  2.0099e+00,\n",
       "        -5.0699e-02, -1.2656e+00,  7.4424e-01, -1.4571e+00, -9.4992e-02,\n",
       "         2.7541e-01, -1.6648e+00, -1.1079e+00, -1.2101e+00, -1.3936e+00,\n",
       "         2.8344e+00,  1.6304e+00, -1.7166e+00, -7.0561e-01, -5.6463e-02,\n",
       "         3.9330e-01,  2.9431e-02, -1.8506e+00,  9.1104e-02,  2.6148e+00,\n",
       "        -1.4302e+00, -3.2182e+00, -1.5933e+00,  6.2873e-01,  9.2111e-01,\n",
       "        -1.3473e+00, -1.4284e-01, -6.5315e-01,  2.1234e+00,  1.3642e+00,\n",
       "        -4.3659e-01, -2.0030e+00, -8.2510e-01, -1.1088e+00,  3.0318e+00,\n",
       "         1.2133e+00, -1.3308e+00,  1.4910e+00, -7.3891e-01, -1.6342e+00,\n",
       "         9.9876e-01, -6.6613e-01,  9.6553e-01, -1.1062e+00, -9.4803e-01,\n",
       "        -1.1384e+00,  3.4414e-01, -2.4245e+00,  1.4976e+00, -6.1243e-01,\n",
       "         1.1744e+00,  9.0932e-01, -1.7218e+00, -2.3084e+00, -8.5003e-01,\n",
       "        -5.5052e-01, -8.4565e-01, -1.6081e+00,  5.8525e-01, -9.2819e-01,\n",
       "        -9.9393e-01,  1.1735e+00,  2.1812e+00, -2.6011e+00,  1.5444e+00,\n",
       "         8.2231e-01, -5.3622e-02, -2.0234e+00, -2.4096e-01,  1.4080e-01,\n",
       "         2.6773e-01, -1.5662e+00,  3.8970e+00, -1.3701e+00, -1.2204e+00,\n",
       "         7.5673e-01, -6.3416e-01,  8.0255e-01, -1.1747e-02, -4.2181e-01,\n",
       "         8.1141e-01, -1.7660e+00, -1.5091e+00, -1.0730e+00,  2.5845e+00,\n",
       "         3.1832e-01,  8.4752e-01,  6.4003e-01, -1.1575e+00,  8.2247e-02,\n",
       "        -6.5289e-01,  2.4617e-01, -8.5477e-02, -2.0803e-01, -4.6017e-01,\n",
       "         2.7022e-01, -1.3763e+00, -2.6142e-01,  1.2584e+00, -7.5434e-01,\n",
       "        -1.8605e+00, -1.7159e-01, -9.3240e-01, -3.7107e-01,  1.2245e+00,\n",
       "         4.2375e+00, -1.5932e+00,  1.1260e+00,  1.5619e+00,  5.6532e-01,\n",
       "        -1.5421e+00,  3.5866e+00])"
      ]
     },
     "execution_count": 22,
     "metadata": {},
     "output_type": "execute_result"
    }
   ],
   "source": [
    "(train_dataset[0][0] - EX) / VarX"
   ]
  },
  {
   "cell_type": "code",
   "execution_count": 23,
   "id": "1b31f56d",
   "metadata": {},
   "outputs": [],
   "source": [
    "a = None\n",
    "b = None"
   ]
  },
  {
   "cell_type": "code",
   "execution_count": 24,
   "id": "837c4efc",
   "metadata": {},
   "outputs": [
    {
     "name": "stdout",
     "output_type": "stream",
     "text": [
      "1\n"
     ]
    }
   ],
   "source": [
    "if not (a or b):\n",
    "    print(1)"
   ]
  },
  {
   "cell_type": "code",
   "execution_count": 25,
   "id": "ddd4832f",
   "metadata": {},
   "outputs": [],
   "source": [
    "dataset1 = CustomTrain(np.array(feat_list), np.array(label_list))"
   ]
  },
  {
   "cell_type": "code",
   "execution_count": 26,
   "id": "a3d10cc1",
   "metadata": {},
   "outputs": [
    {
     "data": {
      "text/plain": [
       "<__main__.CustomDataset at 0x7f01420ffa50>"
      ]
     },
     "execution_count": 26,
     "metadata": {},
     "output_type": "execute_result"
    }
   ],
   "source": [
    "train_dataset"
   ]
  },
  {
   "cell_type": "code",
   "execution_count": 27,
   "id": "50ca1a12",
   "metadata": {},
   "outputs": [
    {
     "data": {
      "text/plain": [
       "8"
      ]
     },
     "execution_count": 27,
     "metadata": {},
     "output_type": "execute_result"
    }
   ],
   "source": [
    "train_dataset.__getitem__(0)[1]\n",
    "#dataset1.__getitem__(0)[1]"
   ]
  },
  {
   "cell_type": "code",
   "execution_count": 28,
   "id": "8ce49cef",
   "metadata": {},
   "outputs": [],
   "source": [
    "from torch.utils.data import ConcatDataset\n",
    "\n",
    "\n",
    "c_dataset = ConcatDataset([train_dataset, dataset1])"
   ]
  },
  {
   "cell_type": "code",
   "execution_count": 29,
   "id": "b5a8f5e0",
   "metadata": {},
   "outputs": [
    {
     "data": {
      "text/plain": [
       "torch.Size([1536])"
      ]
     },
     "execution_count": 29,
     "metadata": {},
     "output_type": "execute_result"
    }
   ],
   "source": [
    "a = torch.randn(512)\n",
    "b = torch.randn(1024)\n",
    "torch.concat([a,b]).shape"
   ]
  },
  {
   "cell_type": "code",
   "execution_count": null,
   "id": "a5e8bc8b",
   "metadata": {},
   "outputs": [],
   "source": []
  },
  {
   "cell_type": "code",
   "execution_count": 30,
   "id": "3bb984db",
   "metadata": {},
   "outputs": [],
   "source": [
    "from torch.utils.data import Dataset\n",
    "\n",
    "class ConcatData(Dataset):\n",
    "    def __init__(self, datasets):\n",
    "        self.datasets = datasets\n",
    "        \n",
    "    def __len__(self):\n",
    "        return len(self.datasets[0])\n",
    "\n",
    "    def __getitem__(self,idx):\n",
    "        x_data = [dataset[idx][0] for dataset in self.datasets]\n",
    "        x_data = torch.concat(x_data)\n",
    "        x_data = torch.FloatTensor(x_data)\n",
    "        \n",
    "        \n",
    "        y_data = self.datasets[0][idx][1]\n",
    "        y_data = torch.tensor(y_data)\n",
    "\n",
    "        return x_data, y_data"
   ]
  },
  {
   "cell_type": "code",
   "execution_count": 31,
   "id": "590c3a3b",
   "metadata": {},
   "outputs": [],
   "source": [
    "c_data = ConcatData([train_dataset, dataset1])"
   ]
  },
  {
   "cell_type": "code",
   "execution_count": 32,
   "id": "a151e159",
   "metadata": {},
   "outputs": [
    {
     "data": {
      "text/plain": [
       "torch.Size([1536])"
      ]
     },
     "execution_count": 32,
     "metadata": {},
     "output_type": "execute_result"
    }
   ],
   "source": [
    "c_data.__getitem__(3)[0].shape"
   ]
  },
  {
   "cell_type": "code",
   "execution_count": 35,
   "id": "43bca59a",
   "metadata": {},
   "outputs": [
    {
     "data": {
      "text/plain": [
       "True"
      ]
     },
     "execution_count": 35,
     "metadata": {},
     "output_type": "execute_result"
    }
   ],
   "source": [
    "a = (5,2)\n",
    "type(a) == tuple"
   ]
  },
  {
   "cell_type": "code",
   "execution_count": 41,
   "id": "6beddf91",
   "metadata": {},
   "outputs": [],
   "source": [
    "from torch.utils.data import DataLoader\n",
    "\n",
    "train_loader = DataLoader(train_dataset, batch_size = 750)"
   ]
  },
  {
   "cell_type": "code",
   "execution_count": 47,
   "id": "76a503ef",
   "metadata": {},
   "outputs": [],
   "source": [
    "t = iter(train_loader)"
   ]
  },
  {
   "cell_type": "code",
   "execution_count": 57,
   "id": "acd6085a",
   "metadata": {},
   "outputs": [
    {
     "ename": "StopIteration",
     "evalue": "",
     "output_type": "error",
     "traceback": [
      "\u001b[0;31m---------------------------------------------------------------------------\u001b[0m",
      "\u001b[0;31mStopIteration\u001b[0m                             Traceback (most recent call last)",
      "\u001b[0;32m/tmp/ipykernel_18378/2139502855.py\u001b[0m in \u001b[0;36m<module>\u001b[0;34m\u001b[0m\n\u001b[0;32m----> 1\u001b[0;31m \u001b[0mnext\u001b[0m\u001b[0;34m(\u001b[0m\u001b[0mt\u001b[0m\u001b[0;34m)\u001b[0m\u001b[0;34m\u001b[0m\u001b[0;34m\u001b[0m\u001b[0m\n\u001b[0m",
      "\u001b[0;32m~/anaconda3/envs/py376/lib/python3.7/site-packages/torch/utils/data/dataloader.py\u001b[0m in \u001b[0;36m__next__\u001b[0;34m(self)\u001b[0m\n\u001b[1;32m    528\u001b[0m             \u001b[0;32mif\u001b[0m \u001b[0mself\u001b[0m\u001b[0;34m.\u001b[0m\u001b[0m_sampler_iter\u001b[0m \u001b[0;32mis\u001b[0m \u001b[0;32mNone\u001b[0m\u001b[0;34m:\u001b[0m\u001b[0;34m\u001b[0m\u001b[0;34m\u001b[0m\u001b[0m\n\u001b[1;32m    529\u001b[0m                 \u001b[0mself\u001b[0m\u001b[0;34m.\u001b[0m\u001b[0m_reset\u001b[0m\u001b[0;34m(\u001b[0m\u001b[0;34m)\u001b[0m\u001b[0;34m\u001b[0m\u001b[0;34m\u001b[0m\u001b[0m\n\u001b[0;32m--> 530\u001b[0;31m             \u001b[0mdata\u001b[0m \u001b[0;34m=\u001b[0m \u001b[0mself\u001b[0m\u001b[0;34m.\u001b[0m\u001b[0m_next_data\u001b[0m\u001b[0;34m(\u001b[0m\u001b[0;34m)\u001b[0m\u001b[0;34m\u001b[0m\u001b[0;34m\u001b[0m\u001b[0m\n\u001b[0m\u001b[1;32m    531\u001b[0m             \u001b[0mself\u001b[0m\u001b[0;34m.\u001b[0m\u001b[0m_num_yielded\u001b[0m \u001b[0;34m+=\u001b[0m \u001b[0;36m1\u001b[0m\u001b[0;34m\u001b[0m\u001b[0;34m\u001b[0m\u001b[0m\n\u001b[1;32m    532\u001b[0m             \u001b[0;32mif\u001b[0m \u001b[0mself\u001b[0m\u001b[0;34m.\u001b[0m\u001b[0m_dataset_kind\u001b[0m \u001b[0;34m==\u001b[0m \u001b[0m_DatasetKind\u001b[0m\u001b[0;34m.\u001b[0m\u001b[0mIterable\u001b[0m \u001b[0;32mand\u001b[0m\u001b[0;31m \u001b[0m\u001b[0;31m\\\u001b[0m\u001b[0;34m\u001b[0m\u001b[0;34m\u001b[0m\u001b[0m\n",
      "\u001b[0;32m~/anaconda3/envs/py376/lib/python3.7/site-packages/torch/utils/data/dataloader.py\u001b[0m in \u001b[0;36m_next_data\u001b[0;34m(self)\u001b[0m\n\u001b[1;32m    567\u001b[0m \u001b[0;34m\u001b[0m\u001b[0m\n\u001b[1;32m    568\u001b[0m     \u001b[0;32mdef\u001b[0m \u001b[0m_next_data\u001b[0m\u001b[0;34m(\u001b[0m\u001b[0mself\u001b[0m\u001b[0;34m)\u001b[0m\u001b[0;34m:\u001b[0m\u001b[0;34m\u001b[0m\u001b[0;34m\u001b[0m\u001b[0m\n\u001b[0;32m--> 569\u001b[0;31m         \u001b[0mindex\u001b[0m \u001b[0;34m=\u001b[0m \u001b[0mself\u001b[0m\u001b[0;34m.\u001b[0m\u001b[0m_next_index\u001b[0m\u001b[0;34m(\u001b[0m\u001b[0;34m)\u001b[0m  \u001b[0;31m# may raise StopIteration\u001b[0m\u001b[0;34m\u001b[0m\u001b[0;34m\u001b[0m\u001b[0m\n\u001b[0m\u001b[1;32m    570\u001b[0m         \u001b[0mdata\u001b[0m \u001b[0;34m=\u001b[0m \u001b[0mself\u001b[0m\u001b[0;34m.\u001b[0m\u001b[0m_dataset_fetcher\u001b[0m\u001b[0;34m.\u001b[0m\u001b[0mfetch\u001b[0m\u001b[0;34m(\u001b[0m\u001b[0mindex\u001b[0m\u001b[0;34m)\u001b[0m  \u001b[0;31m# may raise StopIteration\u001b[0m\u001b[0;34m\u001b[0m\u001b[0;34m\u001b[0m\u001b[0m\n\u001b[1;32m    571\u001b[0m         \u001b[0;32mif\u001b[0m \u001b[0mself\u001b[0m\u001b[0;34m.\u001b[0m\u001b[0m_pin_memory\u001b[0m\u001b[0;34m:\u001b[0m\u001b[0;34m\u001b[0m\u001b[0;34m\u001b[0m\u001b[0m\n",
      "\u001b[0;32m~/anaconda3/envs/py376/lib/python3.7/site-packages/torch/utils/data/dataloader.py\u001b[0m in \u001b[0;36m_next_index\u001b[0;34m(self)\u001b[0m\n\u001b[1;32m    519\u001b[0m \u001b[0;34m\u001b[0m\u001b[0m\n\u001b[1;32m    520\u001b[0m     \u001b[0;32mdef\u001b[0m \u001b[0m_next_index\u001b[0m\u001b[0;34m(\u001b[0m\u001b[0mself\u001b[0m\u001b[0;34m)\u001b[0m\u001b[0;34m:\u001b[0m\u001b[0;34m\u001b[0m\u001b[0;34m\u001b[0m\u001b[0m\n\u001b[0;32m--> 521\u001b[0;31m         \u001b[0;32mreturn\u001b[0m \u001b[0mnext\u001b[0m\u001b[0;34m(\u001b[0m\u001b[0mself\u001b[0m\u001b[0;34m.\u001b[0m\u001b[0m_sampler_iter\u001b[0m\u001b[0;34m)\u001b[0m  \u001b[0;31m# may raise StopIteration\u001b[0m\u001b[0;34m\u001b[0m\u001b[0;34m\u001b[0m\u001b[0m\n\u001b[0m\u001b[1;32m    522\u001b[0m \u001b[0;34m\u001b[0m\u001b[0m\n\u001b[1;32m    523\u001b[0m     \u001b[0;32mdef\u001b[0m \u001b[0m_next_data\u001b[0m\u001b[0;34m(\u001b[0m\u001b[0mself\u001b[0m\u001b[0;34m)\u001b[0m\u001b[0;34m:\u001b[0m\u001b[0;34m\u001b[0m\u001b[0;34m\u001b[0m\u001b[0m\n",
      "\u001b[0;31mStopIteration\u001b[0m: "
     ]
    }
   ],
   "source": [
    "next(t)"
   ]
  },
  {
   "cell_type": "code",
   "execution_count": 61,
   "id": "ea66c469",
   "metadata": {},
   "outputs": [
    {
     "data": {
      "text/plain": [
       "torch.Size([750, 64])"
      ]
     },
     "execution_count": 61,
     "metadata": {},
     "output_type": "execute_result"
    }
   ],
   "source": [
    "x_data = [torch.randn(750,32),torch.randn(750,32) ]\n",
    "torch.concat(x_data, dim = 1).shape"
   ]
  },
  {
   "cell_type": "code",
   "execution_count": null,
   "id": "6031ba54",
   "metadata": {},
   "outputs": [],
   "source": []
  }
 ],
 "metadata": {
  "kernelspec": {
   "display_name": "Python 3 (ipykernel)",
   "language": "python",
   "name": "python3"
  },
  "language_info": {
   "codemirror_mode": {
    "name": "ipython",
    "version": 3
   },
   "file_extension": ".py",
   "mimetype": "text/x-python",
   "name": "python",
   "nbconvert_exporter": "python",
   "pygments_lexer": "ipython3",
   "version": "3.7.6"
  }
 },
 "nbformat": 4,
 "nbformat_minor": 5
}
